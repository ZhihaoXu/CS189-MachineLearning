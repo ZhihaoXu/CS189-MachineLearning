{
 "cells": [
  {
   "cell_type": "code",
   "execution_count": 2,
   "metadata": {},
   "outputs": [],
   "source": [
    "from collections import Counter\n",
    "from tqdm import tnrange, tqdm_notebook\n",
    "from sklearn import preprocessing\n",
    "import pandas as pd\n",
    "import numpy as np\n",
    "from numpy import genfromtxt\n",
    "import scipy.io\n",
    "from scipy import stats\n",
    "from sklearn.feature_extraction import DictVectorizer\n",
    "import random\n",
    "import csv\n",
    "from graphviz import Digraph"
   ]
  },
  {
   "cell_type": "code",
   "execution_count": 3,
   "metadata": {},
   "outputs": [],
   "source": [
    "# Usage results_to_csv(clf.predict(X_test))\n",
    "def results_to_csv(y_test,dataname):\n",
    "    y_test = y_test.astype(int)\n",
    "    df = pd.DataFrame({'Category': y_test})\n",
    "    df.index += 1  # Ensures that the index starts at 1. \n",
    "    df.to_csv(dataname+'submission.csv', index_label='Id')"
   ]
  },
  {
   "cell_type": "code",
   "execution_count": 4,
   "metadata": {},
   "outputs": [],
   "source": [
    "def viz_tree(r,features):\n",
    "    stack = []\n",
    "    g = Digraph()# node_attr={'shape': 'record', 'height': '.1'})\n",
    "    _id = 0\n",
    "    current_node = r\n",
    "    leftward = True\n",
    "    current_root_num = 0\n",
    "\n",
    "    while True:\n",
    "        if current_node:\n",
    "            stack.append((_id, current_node))\n",
    "            if current_node.label!= None:\n",
    "                g.node('node{0}'.format(_id), str(current_node.label))\n",
    "            else:\n",
    "                name = features[current_node.feature] + \\\n",
    "                        \"<\" + str(round(current_node.thresh,2))\n",
    "                g.node('node{0}'.format(_id), name)\n",
    "            if _id >= 1:\n",
    "                g.edge('node{0}:f{1}'.format(current_root_num, \\\n",
    "                                             0 if leftward else 2),\n",
    "                       'node{0}:f1'.format(_id))\n",
    "\n",
    "            leftward = True\n",
    "            current_node = current_node.left  # left\n",
    "            current_root_num = _id\n",
    "            _id += 1\n",
    "\n",
    "        if current_node is None and len(stack)!=0:\n",
    "            count, popped_node = stack.pop()\n",
    "            if popped_node.right:\n",
    "                current_root_num = count\n",
    "                current_node = popped_node.right  # right\n",
    "                leftward = False\n",
    "\n",
    "        if current_node is None and len(stack)==0:\n",
    "            break      \n",
    "\n",
    "    return g"
   ]
  },
  {
   "cell_type": "code",
   "execution_count": 5,
   "metadata": {},
   "outputs": [],
   "source": [
    "class Node:\n",
    "    def __init__(self, left=None, right=None, label=None,\\\n",
    "                       feature=None,thresh=None):\n",
    "        self.left = left\n",
    "        self.right = right\n",
    "        self.label = label\n",
    "        self.feature = feature\n",
    "        self.thresh = thresh\n",
    "        \n",
    "class DecisionTree:\n",
    "\n",
    "    def __init__(self,max_depth = 10):\n",
    "        self.max_depth = max_depth\n",
    "        \n",
    "    def entropy(self,y):\n",
    "        _, counts = np.unique(y, return_counts=True)\n",
    "        entropy_ = stats.entropy(counts, base=2)\n",
    "        return entropy_\n",
    "\n",
    "    def information_gain(self,y,left,right):\n",
    "\n",
    "        entropy0 = self.entropy(y)\n",
    "        Sl = len(left)\n",
    "        Sr = len(right)\n",
    "        entropy1 = (Sl * self.entropy(left) + \\\n",
    "                    Sr * self.entropy(right))/(Sl + Sr)\n",
    "\n",
    "        return entropy0 - entropy1\n",
    "    \n",
    "    # split the X and y by idx and thresh\n",
    "    def split(self,X, y, idx, thresh):\n",
    "        left_filter = np.where(X[:,idx] < thresh)[0]\n",
    "        right_filter = np.where(X[:,idx] >= thresh)[0]\n",
    "        return X[left_filter], y[left_filter], \\\n",
    "               X[right_filter], y[right_filter]\n",
    "    \n",
    "    # return the thresh, info_gain\n",
    "    def findSplitWithIndex(self,X,y,idx):\n",
    "        mean = []\n",
    "        col = sorted(np.unique(X[:,idx]))\n",
    "        \n",
    "        if len(col)==1:\n",
    "            mean.append(0)\n",
    "            \n",
    "        for i in range(len(col)-1):\n",
    "            mean.append( (col[i] + col[i+1])/2 )\n",
    "        \n",
    "        thresh = mean[0]\n",
    "        info_ = 0\n",
    "        for i in mean:\n",
    "            xl,yl,xr,yr = self.split(X,y,idx,i)\n",
    "            info_gain = self.information_gain(y,yl,yr)\n",
    "\n",
    "            if info_gain > info_:\n",
    "                info_ = info_gain\n",
    "                thresh = i\n",
    "\n",
    "        return thresh,info_\n",
    "        \n",
    "    # return the idx(figure), thresh \n",
    "    def segmenter(self,X, y, m = None):\n",
    "        info_ = 0\n",
    "        thresh_ = 0\n",
    "        idx_ = 0\n",
    "        \n",
    "        idxList = np.array(range(X.shape[1]))\n",
    "        idxList = idxList[np.random.choice(X.shape[1], m,replace=False)]\n",
    "\n",
    "        for idx in idxList:\n",
    "            thresh,info_gain = self.findSplitWithIndex(X,y,idx)\n",
    "\n",
    "            if info_gain > info_:\n",
    "                info_ = info_gain\n",
    "                thresh_ = thresh\n",
    "                idx_ = idx\n",
    "\n",
    "        return idx_,thresh_\n",
    "    \n",
    "    def fit_tree(self,X,y,depth=0,m=None):\n",
    "        major_label = Counter(y).most_common(1)[0][0]\n",
    "        if self.entropy(y)==0 or depth == self.max_depth:\n",
    "            return Node(label=major_label)\n",
    "        \n",
    "        idx,thresh = self.segmenter(X,y,m=m)\n",
    "        xl,yl,xr,yr = self.split(X,y,idx,thresh)\n",
    "        \n",
    "        \n",
    "        if len(yl) > 0 and len(yr) >0:\n",
    "            left = self.fit_tree(xl,yl,depth+1,m=m)\n",
    "            right = self.fit_tree(xr,yr,depth+1,m=m)\n",
    "                \n",
    "            #label = \"(\" + idx + \")\" + \"<\" + str(thresh)\n",
    "            return Node(left,right,label=None,\\\n",
    "                        feature=idx,thresh=thresh)\n",
    "        else:\n",
    "            return Node(label=major_label)\n",
    "    \n",
    "    def fit(self, X, y,m=None):\n",
    "        if m == None:\n",
    "            m = X.shape[1]\n",
    "        self.header = self.fit_tree(X,y,m=m)\n",
    "\n",
    "    def predict(self, X):\n",
    "        node = self.header\n",
    "        pred = []\n",
    "        \n",
    "        for i in range(X.shape[0]):\n",
    "            while node.label==None:\n",
    "                if X[i][node.feature] < node.thresh:\n",
    "                    node = node.left\n",
    "                else:\n",
    "                    node = node.right\n",
    "            pred.append(node.label)\n",
    "            node = self.header\n",
    "        return pred\n",
    "    \n",
    "    def visualizeTree(self):\n",
    "        return viz_tree(self.header,features)\n",
    "        \n",
    "    # state the splits (i.e., which feature and which value \n",
    "    # of that feature to split on) your decision tree made \n",
    "    # to classify it.\n",
    "    def __repr__(self,x,features,class_names):\n",
    "        node = self.header\n",
    "        while node.label==None:\n",
    "            if x[node.feature] < node.thresh:\n",
    "                print(features[node.feature], \"<\", node.thresh)\n",
    "                node = node.left\n",
    "            else:\n",
    "                print(features[node.feature], \">\", node.thresh)\n",
    "                node = node.right\n",
    "\n",
    "        print(\"Therefore this email was\",class_names[node.label])\n",
    "\n",
    "\n",
    "class RandomForest(DecisionTree):\n",
    "    \n",
    "    def __init__(self,B=100,m=6,max_depth = 10):\n",
    "        self.B = B\n",
    "        self.m = m\n",
    "        self.max_depth = max_depth\n",
    "\n",
    "    def fit(self, X, y):\n",
    "        self.forest = []\n",
    "        for i in tqdm_notebook(range(self.B)):\n",
    "            index = np.random.choice(X.shape[0], X.shape[0] ,\\\n",
    "                                     replace=True)\n",
    "            X = X[index]\n",
    "            y = y[index]\n",
    "            self.forest.append(self.fit_tree(X,y,m=self.m))\n",
    "\n",
    "    \n",
    "    def predict(self, X):\n",
    "        preds = []\n",
    "        for i in range(X.shape[0]):\n",
    "            pred = []\n",
    "            for j in range(self.B):\n",
    "                node = self.forest[j]\n",
    "                while node.label==None:\n",
    "                    if X[i][node.feature] < node.thresh:\n",
    "                        node = node.left\n",
    "                    else:\n",
    "                        node = node.right\n",
    "                pred.append(node.label)\n",
    "            preds.append(Counter(pred).most_common(1)[0][0])\n",
    "        return preds\n",
    "        "
   ]
  },
  {
   "cell_type": "code",
   "execution_count": 17,
   "metadata": {},
   "outputs": [],
   "source": [
    "features = [\n",
    "        \"pain\", \"private\", \"bank\", \"money\", \"drug\", \"spam\", \n",
    "        \"prescription\", \"creative\", \"height\", \"featured\", \n",
    "        \"differ\", \"width\", \"other\", \"energy\", \"business\", \n",
    "        \"message\", \"volumes\", \"revision\", \"path\", \"meter\", \n",
    "        \"memo\", \"planning\", \"pleased\", \"record\", \"out\",\n",
    "        \"semicolon\", \"dollar\", \"sharp\", \"exclamation\", \n",
    "        \"parenthesis\", \"square_bracket\", \"ampersand\"\n",
    "    ]\n",
    "assert len(features) == 32\n",
    "\n",
    "# Load spam data\n",
    "path_train = 'datasets/spam-dataset/spam_data.mat'\n",
    "spamData = scipy.io.loadmat(path_train)\n",
    "spamX = spamData['training_data']\n",
    "spamY = np.squeeze(spamData['training_labels'])\n",
    "spamTest = spamData['test_data']\n",
    "class_names = [\"Ham\", \"Spam\"]\n",
    "\n",
    "shuffle = np.arange(spamX.shape[0])\n",
    "np.random.shuffle(shuffle)\n",
    "spamX = spamX[shuffle]\n",
    "spamY = spamY[shuffle]"
   ]
  },
  {
   "cell_type": "markdown",
   "metadata": {},
   "source": [
    "## Decision Tree Spam"
   ]
  },
  {
   "cell_type": "code",
   "execution_count": 7,
   "metadata": {},
   "outputs": [],
   "source": [
    "classifier = DecisionTree(max_depth = 10)\n",
    "accu = []\n",
    "for i in range(5):\n",
    "    index = np.array(range(int(i*5172/5),int((i+1)*5172/5)))\n",
    "    \n",
    "    testX = spamX[index]\n",
    "    testY = spamY[index]\n",
    "    \n",
    "    trainX = np.delete(spamX,index,axis=0)\n",
    "    trainY = np.delete(spamY,index,axis=0)\n",
    "    \n",
    "    classifier.fit(trainX,trainY)\n",
    "    predictions = classifier.predict(testX)\n",
    "    predictions = np.array(predictions)\n",
    "    accu.append(sum(predictions == testY)/testY.size)"
   ]
  },
  {
   "cell_type": "code",
   "execution_count": 8,
   "metadata": {},
   "outputs": [
    {
     "data": {
      "text/plain": [
       "0.8225029200422356"
      ]
     },
     "execution_count": 8,
     "metadata": {},
     "output_type": "execute_result"
    }
   ],
   "source": [
    "np.mean(accu)"
   ]
  },
  {
   "cell_type": "code",
   "execution_count": 9,
   "metadata": {},
   "outputs": [],
   "source": [
    "classifier.fit(spamX,spamY)\n",
    "predictions = classifier.predict(spamTest)\n",
    "predictions = np.array(predictions)"
   ]
  },
  {
   "cell_type": "code",
   "execution_count": 10,
   "metadata": {},
   "outputs": [],
   "source": [
    "results_to_csv(predictions,\"spam\")"
   ]
  },
  {
   "cell_type": "code",
   "execution_count": 18,
   "metadata": {},
   "outputs": [
    {
     "name": "stdout",
     "output_type": "stream",
     "text": [
      "exclamation < 0.5\n",
      "meter < 0.5\n",
      "parenthesis < 0.5\n",
      "volumes < 0.5\n",
      "ampersand < 0.5\n",
      "pain < 0.5\n",
      "semicolon > 0.5\n",
      "dollar > 0.5\n",
      "out < 0.5\n",
      "dollar < 2.5\n",
      "Therefore this email was Spam\n"
     ]
    }
   ],
   "source": [
    "classifier = DecisionTree(max_depth = 10)\n",
    "classifier.fit(spamX,spamY)\n",
    "classifier.__repr__(spamX[1],features,class_names)"
   ]
  },
  {
   "cell_type": "code",
   "execution_count": 19,
   "metadata": {},
   "outputs": [
    {
     "name": "stdout",
     "output_type": "stream",
     "text": [
      "exclamation < 0.5\n",
      "meter < 0.5\n",
      "parenthesis > 0.5\n",
      "dollar < 0.5\n",
      "money < 0.5\n",
      "pain < 0.5\n",
      "featured < 0.5\n",
      "energy < 0.5\n",
      "other > 0.5\n",
      "out < 0.5\n",
      "Therefore this email was Ham\n"
     ]
    }
   ],
   "source": [
    "classifier.__repr__(spamX[3],features,class_names)"
   ]
  },
  {
   "cell_type": "code",
   "execution_count": 13,
   "metadata": {},
   "outputs": [],
   "source": [
    "# Pure depth\n",
    "index = np.array(range(int(i*5172/5),int((i+1)*5172/5)))\n",
    "\n",
    "testX = spamX[index]\n",
    "testY = spamY[index]\n",
    "\n",
    "trainX = np.delete(spamX,index,axis=0)\n",
    "trainY = np.delete(spamY,index,axis=0)\n",
    "accu = []\n",
    "\n",
    "for i in range(40):\n",
    "    classifier = DecisionTree(max_depth = i+1)\n",
    "    \n",
    "    classifier.fit(trainX,trainY)\n",
    "    predictions = classifier.predict(testX)\n",
    "    predictions = np.array(predictions)\n",
    "    accu.append(sum(predictions == testY)/testY.size)"
   ]
  },
  {
   "cell_type": "code",
   "execution_count": 14,
   "metadata": {},
   "outputs": [
    {
     "data": {
      "image/png": "[encoded data removed]",
      "text/plain": [
       "<Figure size 432x288 with 1 Axes>"
      ]
     },
     "metadata": {
      "needs_background": "light"
     },
     "output_type": "display_data"
    }
   ],
   "source": [
    "import matplotlib.pyplot as plt\n",
    "%matplotlib inline\n",
    "depth = list(range(1,41))\n",
    "plt.plot(depth,accu,c=\"blue\",)\n",
    "plt.xlabel(\"depth\")\n",
    "plt.ylabel(\"accuracy\")\n",
    "plt.show()"
   ]
  },
  {
   "cell_type": "markdown",
   "metadata": {},
   "source": [
    "## Random Forest Spam"
   ]
  },
  {
   "cell_type": "code",
   "execution_count": 20,
   "metadata": {},
   "outputs": [
    {
     "data": {
      "application/vnd.jupyter.widget-view+json": {
       "model_id": "c94c73ad6dce4544896395b1b7f91660",
       "version_major": 2,
       "version_minor": 0
      },
      "text/plain": [
       "HBox(children=(IntProgress(value=0), HTML(value='')))"
      ]
     },
     "metadata": {},
     "output_type": "display_data"
    },
    {
     "name": "stdout",
     "output_type": "stream",
     "text": [
      "\n"
     ]
    },
    {
     "data": {
      "application/vnd.jupyter.widget-view+json": {
       "model_id": "d4e542fa90ac47c58436eef055369592",
       "version_major": 2,
       "version_minor": 0
      },
      "text/plain": [
       "HBox(children=(IntProgress(value=0), HTML(value='')))"
      ]
     },
     "metadata": {},
     "output_type": "display_data"
    },
    {
     "name": "stdout",
     "output_type": "stream",
     "text": [
      "\n"
     ]
    },
    {
     "data": {
      "application/vnd.jupyter.widget-view+json": {
       "model_id": "19627572762b42c2af6aed78e1f3b250",
       "version_major": 2,
       "version_minor": 0
      },
      "text/plain": [
       "HBox(children=(IntProgress(value=0), HTML(value='')))"
      ]
     },
     "metadata": {},
     "output_type": "display_data"
    },
    {
     "name": "stdout",
     "output_type": "stream",
     "text": [
      "\n"
     ]
    },
    {
     "data": {
      "application/vnd.jupyter.widget-view+json": {
       "model_id": "6bf8fb5d93f149f6b83b6b05b54a292f",
       "version_major": 2,
       "version_minor": 0
      },
      "text/plain": [
       "HBox(children=(IntProgress(value=0), HTML(value='')))"
      ]
     },
     "metadata": {},
     "output_type": "display_data"
    },
    {
     "name": "stdout",
     "output_type": "stream",
     "text": [
      "\n"
     ]
    },
    {
     "data": {
      "application/vnd.jupyter.widget-view+json": {
       "model_id": "ae14e5d74d3f44129fd4483587b5a9a8",
       "version_major": 2,
       "version_minor": 0
      },
      "text/plain": [
       "HBox(children=(IntProgress(value=0), HTML(value='')))"
      ]
     },
     "metadata": {},
     "output_type": "display_data"
    },
    {
     "name": "stdout",
     "output_type": "stream",
     "text": [
      "\n"
     ]
    }
   ],
   "source": [
    "classifier = RandomForest(B=100,m=5,max_depth = 10)\n",
    "accu = []\n",
    "for i in range(5):\n",
    "    index = np.array(range(int(i*5172/5),int((i+1)*5172/5)))\n",
    "    \n",
    "    testX = spamX[index]\n",
    "    testY = spamY[index]\n",
    "    \n",
    "    trainX = np.delete(spamX,index,axis=0)\n",
    "    trainY = np.delete(spamY,index,axis=0)\n",
    "    \n",
    "    classifier.fit(trainX,trainY)\n",
    "    predictions = classifier.predict(testX)\n",
    "    predictions = np.array(predictions)\n",
    "    accu.append(sum(predictions == testY)/testY.size)\n",
    "    "
   ]
  },
  {
   "cell_type": "code",
   "execution_count": 21,
   "metadata": {},
   "outputs": [
    {
     "data": {
      "text/plain": [
       "0.8002679897962045"
      ]
     },
     "execution_count": 21,
     "metadata": {},
     "output_type": "execute_result"
    }
   ],
   "source": [
    "np.mean(accu)"
   ]
  },
  {
   "cell_type": "code",
   "execution_count": 22,
   "metadata": {},
   "outputs": [
    {
     "data": {
      "application/vnd.jupyter.widget-view+json": {
       "model_id": "2ffda11d45354c87b4563d43534a24d7",
       "version_major": 2,
       "version_minor": 0
      },
      "text/plain": [
       "HBox(children=(IntProgress(value=0, max=50), HTML(value='')))"
      ]
     },
     "metadata": {},
     "output_type": "display_data"
    },
    {
     "name": "stdout",
     "output_type": "stream",
     "text": [
      "\n"
     ]
    }
   ],
   "source": [
    "# test\n",
    "classifier = RandomForest(B=50,m=6,max_depth = 20)\n",
    "classifier.fit(spamX, spamY)"
   ]
  },
  {
   "cell_type": "code",
   "execution_count": 23,
   "metadata": {},
   "outputs": [
    {
     "data": {
      "application/vnd.jupyter.widget-view+json": {
       "model_id": "a41a7d07f4d447bf97ff30c686f16120",
       "version_major": 2,
       "version_minor": 0
      },
      "text/plain": [
       "HBox(children=(IntProgress(value=0, max=50), HTML(value='')))"
      ]
     },
     "metadata": {},
     "output_type": "display_data"
    },
    {
     "name": "stdout",
     "output_type": "stream",
     "text": [
      "\n"
     ]
    },
    {
     "data": {
      "text/plain": [
       "0.8244392884764115"
      ]
     },
     "execution_count": 23,
     "metadata": {},
     "output_type": "execute_result"
    }
   ],
   "source": [
    "# training error\n",
    "classifier = RandomForest(B=50,m=6,max_depth = 20)\n",
    "# classifier = DecisionTree(max_depth = 10)\n",
    "classifier.fit(spamX, spamY)\n",
    "predictions = classifier.predict(spamX)\n",
    "predictions = np.array(predictions)\n",
    "sum(predictions == spamY)/5172"
   ]
  },
  {
   "cell_type": "code",
   "execution_count": 24,
   "metadata": {},
   "outputs": [],
   "source": [
    "predictions = classifier.predict(spamTest)\n",
    "predictions = np.array(predictions)\n",
    "results_to_csv(predictions,\"spam\")"
   ]
  },
  {
   "cell_type": "markdown",
   "metadata": {},
   "source": [
    "## titanic data    "
   ]
  },
  {
   "cell_type": "code",
   "execution_count": 25,
   "metadata": {},
   "outputs": [],
   "source": [
    " # Load titanic data       \n",
    "train_data = pd.read_csv(\"datasets/titanic/titanic_training.csv\")\n",
    "test_data = pd.read_csv(\"datasets/titanic/titanic_testing_data.csv\")"
   ]
  },
  {
   "cell_type": "code",
   "execution_count": 26,
   "metadata": {},
   "outputs": [],
   "source": [
    "train_data.fillna(train_data.mean(),inplace=True)\n",
    "test_data.fillna(test_data.mean(),inplace=True)"
   ]
  },
  {
   "cell_type": "code",
   "execution_count": 27,
   "metadata": {},
   "outputs": [],
   "source": [
    "# one hot for training\n",
    "train_data = pd.concat([train_data,\n",
    "                   pd.get_dummies(train_data[\"sex\"], \n",
    "                   prefix=\"sex\")],axis=1)\n",
    "train_data.drop([\"sex\"], axis=1,inplace=True)\n",
    "\n",
    "train_data = pd.concat([train_data,\n",
    "                   pd.get_dummies(train_data[\"embarked\"], \n",
    "                   prefix=\"embarked\")],axis=1)\n",
    "train_data.drop([\"embarked\"], axis=1,inplace=True)\n",
    "\n",
    "# one hot for testing\n",
    "test_data = pd.concat([test_data,\n",
    "                   pd.get_dummies(test_data[\"sex\"], \n",
    "                   prefix=\"sex\")],axis=1)\n",
    "test_data.drop([\"sex\"], axis=1,inplace=True)\n",
    "\n",
    "test_data = pd.concat([test_data,\n",
    "                   pd.get_dummies(test_data[\"embarked\"], \n",
    "                   prefix=\"embarked\")],axis=1)\n",
    "test_data.drop([\"embarked\"], axis=1,inplace=True)"
   ]
  },
  {
   "cell_type": "code",
   "execution_count": 28,
   "metadata": {},
   "outputs": [],
   "source": [
    "train_y = train_data[\"survived\"]\n",
    "train_data.drop([\"survived\"], axis=1, inplace=True)"
   ]
  },
  {
   "cell_type": "code",
   "execution_count": 29,
   "metadata": {},
   "outputs": [],
   "source": [
    "# drop ticket/cabin\n",
    "train_data.drop([\"ticket\"], axis=1, inplace=True)\n",
    "test_data.drop([\"ticket\"], axis=1, inplace=True)\n",
    "\n",
    "train_data.drop([\"cabin\"], axis=1, inplace=True)\n",
    "test_data.drop([\"cabin\"], axis=1, inplace=True)\n"
   ]
  },
  {
   "cell_type": "code",
   "execution_count": 30,
   "metadata": {},
   "outputs": [],
   "source": [
    "features = list(train_data.columns)"
   ]
  },
  {
   "cell_type": "code",
   "execution_count": 31,
   "metadata": {},
   "outputs": [],
   "source": [
    "train_data = train_data.values\n",
    "train_y = train_y.values\n",
    "test_data = test_data.values\n",
    "\n",
    "shuffle = np.arange(train_data.shape[0])\n",
    "np.random.shuffle(shuffle)\n",
    "train_data = train_data[shuffle]\n",
    "train_y = train_y[shuffle]"
   ]
  },
  {
   "cell_type": "markdown",
   "metadata": {},
   "source": [
    "## train_data.shape"
   ]
  },
  {
   "cell_type": "code",
   "execution_count": 32,
   "metadata": {},
   "outputs": [
    {
     "data": {
      "text/plain": [
       "0.8099999999999999"
      ]
     },
     "execution_count": 32,
     "metadata": {},
     "output_type": "execute_result"
    }
   ],
   "source": [
    "classifier = DecisionTree(max_depth=5)\n",
    "accu = []\n",
    "for i in range(5):\n",
    "    index = np.array(range(int(i*1000/5),int((i+1)*1000/5)))\n",
    "    \n",
    "    testX = train_data[index]\n",
    "    testY = train_y[index]\n",
    "    \n",
    "    trainX = np.delete(train_data,index,axis=0)\n",
    "    trainY = np.delete(train_y,index,axis=0)\n",
    "    \n",
    "    classifier.fit(trainX,trainY)\n",
    "    predictions = classifier.predict(testX)\n",
    "    predictions = np.array(predictions)\n",
    "    accu.append(sum(predictions == testY)/testY.size)\n",
    "\n",
    "np.mean(accu)"
   ]
  },
  {
   "cell_type": "code",
   "execution_count": 33,
   "metadata": {},
   "outputs": [
    {
     "data": {
      "text/plain": [
       "0.821"
      ]
     },
     "execution_count": 33,
     "metadata": {},
     "output_type": "execute_result"
    }
   ],
   "source": [
    "# pred\n",
    "classifier = DecisionTree(max_depth=4)\n",
    "classifier.fit(train_data, train_y)\n",
    "predictions = classifier.predict(train_data)\n",
    "predictions = np.array(predictions)\n",
    "sum(predictions == train_y)/1000"
   ]
  },
  {
   "cell_type": "code",
   "execution_count": 34,
   "metadata": {},
   "outputs": [],
   "source": [
    "preds = classifier.predict(test_data)\n",
    "preds = np.array(preds)\n",
    "results_to_csv(preds,\"tit\")"
   ]
  },
  {
   "cell_type": "code",
   "execution_count": null,
   "metadata": {},
   "outputs": [],
   "source": []
  },
  {
   "cell_type": "code",
   "execution_count": 35,
   "metadata": {},
   "outputs": [
    {
     "data": {
      "application/vnd.jupyter.widget-view+json": {
       "model_id": "c4b099ee58f4492391a82792697aaaf6",
       "version_major": 2,
       "version_minor": 0
      },
      "text/plain": [
       "HBox(children=(IntProgress(value=0), HTML(value='')))"
      ]
     },
     "metadata": {},
     "output_type": "display_data"
    },
    {
     "name": "stdout",
     "output_type": "stream",
     "text": [
      "\n"
     ]
    },
    {
     "data": {
      "application/vnd.jupyter.widget-view+json": {
       "model_id": "600e662262434e73a4f0e240dd21301a",
       "version_major": 2,
       "version_minor": 0
      },
      "text/plain": [
       "HBox(children=(IntProgress(value=0), HTML(value='')))"
      ]
     },
     "metadata": {},
     "output_type": "display_data"
    },
    {
     "name": "stdout",
     "output_type": "stream",
     "text": [
      "\n"
     ]
    },
    {
     "data": {
      "application/vnd.jupyter.widget-view+json": {
       "model_id": "5d426831cbf54eada45e9cae57a9aae3",
       "version_major": 2,
       "version_minor": 0
      },
      "text/plain": [
       "HBox(children=(IntProgress(value=0), HTML(value='')))"
      ]
     },
     "metadata": {},
     "output_type": "display_data"
    },
    {
     "name": "stdout",
     "output_type": "stream",
     "text": [
      "\n"
     ]
    },
    {
     "data": {
      "application/vnd.jupyter.widget-view+json": {
       "model_id": "b5a8d42a95a8494ea87b2d5d644bf1db",
       "version_major": 2,
       "version_minor": 0
      },
      "text/plain": [
       "HBox(children=(IntProgress(value=0), HTML(value='')))"
      ]
     },
     "metadata": {},
     "output_type": "display_data"
    },
    {
     "name": "stdout",
     "output_type": "stream",
     "text": [
      "\n"
     ]
    },
    {
     "data": {
      "application/vnd.jupyter.widget-view+json": {
       "model_id": "18cec9b8ba044e4f957e1c67d989fd1a",
       "version_major": 2,
       "version_minor": 0
      },
      "text/plain": [
       "HBox(children=(IntProgress(value=0), HTML(value='')))"
      ]
     },
     "metadata": {},
     "output_type": "display_data"
    },
    {
     "name": "stdout",
     "output_type": "stream",
     "text": [
      "\n"
     ]
    },
    {
     "data": {
      "text/plain": [
       "0.745"
      ]
     },
     "execution_count": 35,
     "metadata": {},
     "output_type": "execute_result"
    }
   ],
   "source": [
    "classifier = RandomForest(B=100,m=3,max_depth = 5)\n",
    "accu = []\n",
    "for i in range(5):\n",
    "    index = np.array(range(int(i*1000/5),int((i+1)*1000/5)))\n",
    "    \n",
    "    testX = train_data[index]\n",
    "    testY = train_y[index]\n",
    "    \n",
    "    trainX = np.delete(train_data,index,axis=0)\n",
    "    trainY = np.delete(train_y,index,axis=0)\n",
    "    \n",
    "    classifier.fit(trainX,trainY)\n",
    "    predictions = classifier.predict(testX)\n",
    "    predictions = np.array(predictions)\n",
    "    accu.append(sum(predictions == testY)/testY.size)\n",
    "\n",
    "np.mean(accu)"
   ]
  },
  {
   "cell_type": "code",
   "execution_count": 36,
   "metadata": {},
   "outputs": [
    {
     "data": {
      "application/vnd.jupyter.widget-view+json": {
       "model_id": "1cd17c94cca347faa7b74a9a13b6b7a5",
       "version_major": 2,
       "version_minor": 0
      },
      "text/plain": [
       "HBox(children=(IntProgress(value=0), HTML(value='')))"
      ]
     },
     "metadata": {},
     "output_type": "display_data"
    },
    {
     "name": "stdout",
     "output_type": "stream",
     "text": [
      "\n"
     ]
    },
    {
     "data": {
      "text/plain": [
       "0.791"
      ]
     },
     "execution_count": 36,
     "metadata": {},
     "output_type": "execute_result"
    }
   ],
   "source": [
    "# pred\n",
    "classifier.fit(train_data, train_y)\n",
    "predictions = classifier.predict(train_data)\n",
    "predictions = np.array(predictions)\n",
    "sum(predictions == train_y)/1000"
   ]
  },
  {
   "cell_type": "code",
   "execution_count": 37,
   "metadata": {},
   "outputs": [],
   "source": [
    "preds = classifier.predict(test_data)\n",
    "preds = np.array(preds)\n",
    "results_to_csv(preds,\"tit\")"
   ]
  },
  {
   "cell_type": "code",
   "execution_count": 38,
   "metadata": {},
   "outputs": [
    {
     "name": "stderr",
     "output_type": "stream",
     "text": [
      "Warning: node node0, port f0 unrecognized\n",
      "Warning: node node1, port f1 unrecognized\n",
      "Warning: node node0, port f2 unrecognized\n",
      "Warning: node node8, port f1 unrecognized\n",
      "Warning: node node1, port f0 unrecognized\n",
      "Warning: node node2, port f1 unrecognized\n",
      "Warning: node node1, port f2 unrecognized\n",
      "Warning: node node5, port f1 unrecognized\n",
      "Warning: node node2, port f0 unrecognized\n",
      "Warning: node node3, port f1 unrecognized\n",
      "Warning: node node2, port f2 unrecognized\n",
      "Warning: node node4, port f1 unrecognized\n",
      "Warning: node node5, port f0 unrecognized\n",
      "Warning: node node6, port f1 unrecognized\n",
      "Warning: node node5, port f2 unrecognized\n",
      "Warning: node node7, port f1 unrecognized\n",
      "Warning: node node8, port f0 unrecognized\n",
      "Warning: node node9, port f1 unrecognized\n",
      "Warning: node node8, port f2 unrecognized\n",
      "Warning: node node12, port f1 unrecognized\n",
      "Warning: node node9, port f0 unrecognized\n",
      "Warning: node node10, port f1 unrecognized\n",
      "Warning: node node9, port f2 unrecognized\n",
      "Warning: node node11, port f1 unrecognized\n",
      "Warning: node node12, port f0 unrecognized\n",
      "Warning: node node13, port f1 unrecognized\n",
      "Warning: node node12, port f2 unrecognized\n",
      "Warning: node node14, port f1 unrecognized\n"
     ]
    },
    {
     "data": {
      "image/svg+xml": [
       "<?xml version=\"1.0\" encoding=\"UTF-8\" standalone=\"no\"?>\n",
       "<!DOCTYPE svg PUBLIC \"-//W3C//DTD SVG 1.1//EN\"\n",
       " \"http://www.w3.org/Graphics/SVG/1.1/DTD/svg11.dtd\">\n",
       "<!-- Generated by graphviz version 2.40.1 (20161225.0304)\n",
       " -->\n",
       "<!-- Title: %3 Pages: 1 -->\n",
       "<svg width=\"566pt\" height=\"260pt\"\n",
       " viewBox=\"0.00 0.00 566.00 260.00\" xmlns=\"http://www.w3.org/2000/svg\" xmlns:xlink=\"http://www.w3.org/1999/xlink\">\n",
       "<g id=\"graph0\" class=\"graph\" transform=\"scale(1 1) rotate(0) translate(4 256)\">\n",
       "<title>%3</title>\n",
       "<polygon fill=\"#ffffff\" stroke=\"transparent\" points=\"-4,4 -4,-256 562,-256 562,4 -4,4\"/>\n",
       "<!-- node0 -->\n",
       "<g id=\"node1\" class=\"node\">\n",
       "<title>node0</title>\n",
       "<ellipse fill=\"none\" stroke=\"#000000\" cx=\"292\" cy=\"-234\" rx=\"59.5895\" ry=\"18\"/>\n",
       "<text text-anchor=\"middle\" x=\"292\" y=\"-229.8\" font-family=\"Times,serif\" font-size=\"14.00\" fill=\"#000000\">sex_male&lt;0.5</text>\n",
       "</g>\n",
       "<!-- node1 -->\n",
       "<g id=\"node2\" class=\"node\">\n",
       "<title>node1</title>\n",
       "<ellipse fill=\"none\" stroke=\"#000000\" cx=\"237\" cy=\"-162\" rx=\"52.3654\" ry=\"18\"/>\n",
       "<text text-anchor=\"middle\" x=\"237\" y=\"-157.8\" font-family=\"Times,serif\" font-size=\"14.00\" fill=\"#000000\">pclass&lt;2.14</text>\n",
       "</g>\n",
       "<!-- node0&#45;&gt;node1 -->\n",
       "<g id=\"edge1\" class=\"edge\">\n",
       "<title>node0:f0&#45;&gt;node1:f1</title>\n",
       "<path fill=\"none\" stroke=\"#000000\" d=\"M278.4045,-216.2022C271.8107,-207.5704 263.7697,-197.0439 256.5339,-187.5717\"/>\n",
       "<polygon fill=\"#000000\" stroke=\"#000000\" points=\"259.2909,-185.4151 250.4391,-179.593 253.7282,-189.6644 259.2909,-185.4151\"/>\n",
       "</g>\n",
       "<!-- node8 -->\n",
       "<g id=\"node9\" class=\"node\">\n",
       "<title>node8</title>\n",
       "<ellipse fill=\"none\" stroke=\"#000000\" cx=\"349\" cy=\"-162\" rx=\"38.3413\" ry=\"18\"/>\n",
       "<text text-anchor=\"middle\" x=\"349\" y=\"-157.8\" font-family=\"Times,serif\" font-size=\"14.00\" fill=\"#000000\">age&lt;9.5</text>\n",
       "</g>\n",
       "<!-- node0&#45;&gt;node8 -->\n",
       "<g id=\"edge8\" class=\"edge\">\n",
       "<title>node0:f2&#45;&gt;node8:f1</title>\n",
       "<path fill=\"none\" stroke=\"#000000\" d=\"M306.0899,-216.2022C313.0254,-207.4416 321.506,-196.7293 329.091,-187.1482\"/>\n",
       "<polygon fill=\"#000000\" stroke=\"#000000\" points=\"332.0018,-189.1102 335.4647,-179.0972 326.5135,-184.7652 332.0018,-189.1102\"/>\n",
       "</g>\n",
       "<!-- node2 -->\n",
       "<g id=\"node3\" class=\"node\">\n",
       "<title>node2</title>\n",
       "<ellipse fill=\"none\" stroke=\"#000000\" cx=\"99\" cy=\"-90\" rx=\"70.2062\" ry=\"18\"/>\n",
       "<text text-anchor=\"middle\" x=\"99\" y=\"-85.8\" font-family=\"Times,serif\" font-size=\"14.00\" fill=\"#000000\">embarked_S&lt;0.5</text>\n",
       "</g>\n",
       "<!-- node1&#45;&gt;node2 -->\n",
       "<g id=\"edge2\" class=\"edge\">\n",
       "<title>node1:f0&#45;&gt;node2:f1</title>\n",
       "<path fill=\"none\" stroke=\"#000000\" d=\"M208.0707,-146.9064C188.1538,-136.515 161.4204,-122.5672 139.4053,-111.081\"/>\n",
       "<polygon fill=\"#000000\" stroke=\"#000000\" points=\"140.7776,-107.8493 130.2928,-106.3267 137.5396,-114.0554 140.7776,-107.8493\"/>\n",
       "</g>\n",
       "<!-- node5 -->\n",
       "<g id=\"node6\" class=\"node\">\n",
       "<title>node5</title>\n",
       "<ellipse fill=\"none\" stroke=\"#000000\" cx=\"237\" cy=\"-90\" rx=\"48.9655\" ry=\"18\"/>\n",
       "<text text-anchor=\"middle\" x=\"237\" y=\"-85.8\" font-family=\"Times,serif\" font-size=\"14.00\" fill=\"#000000\">fare&lt;23.35</text>\n",
       "</g>\n",
       "<!-- node1&#45;&gt;node5 -->\n",
       "<g id=\"edge5\" class=\"edge\">\n",
       "<title>node1:f2&#45;&gt;node5:f1</title>\n",
       "<path fill=\"none\" stroke=\"#000000\" d=\"M237,-143.8314C237,-136.131 237,-126.9743 237,-118.4166\"/>\n",
       "<polygon fill=\"#000000\" stroke=\"#000000\" points=\"240.5001,-118.4132 237,-108.4133 233.5001,-118.4133 240.5001,-118.4132\"/>\n",
       "</g>\n",
       "<!-- node3 -->\n",
       "<g id=\"node4\" class=\"node\">\n",
       "<title>node3</title>\n",
       "<ellipse fill=\"none\" stroke=\"#000000\" cx=\"27\" cy=\"-18\" rx=\"27\" ry=\"18\"/>\n",
       "<text text-anchor=\"middle\" x=\"27\" y=\"-13.8\" font-family=\"Times,serif\" font-size=\"14.00\" fill=\"#000000\">1.0</text>\n",
       "</g>\n",
       "<!-- node2&#45;&gt;node3 -->\n",
       "<g id=\"edge3\" class=\"edge\">\n",
       "<title>node2:f0&#45;&gt;node3:f1</title>\n",
       "<path fill=\"none\" stroke=\"#000000\" d=\"M81.2022,-72.2022C71.5515,-62.5515 59.5323,-50.5323 49.2661,-40.2661\"/>\n",
       "<polygon fill=\"#000000\" stroke=\"#000000\" points=\"51.7054,-37.7556 42.1594,-33.1594 46.7556,-42.7054 51.7054,-37.7556\"/>\n",
       "</g>\n",
       "<!-- node4 -->\n",
       "<g id=\"node5\" class=\"node\">\n",
       "<title>node4</title>\n",
       "<ellipse fill=\"none\" stroke=\"#000000\" cx=\"99\" cy=\"-18\" rx=\"27\" ry=\"18\"/>\n",
       "<text text-anchor=\"middle\" x=\"99\" y=\"-13.8\" font-family=\"Times,serif\" font-size=\"14.00\" fill=\"#000000\">1.0</text>\n",
       "</g>\n",
       "<!-- node2&#45;&gt;node4 -->\n",
       "<g id=\"edge4\" class=\"edge\">\n",
       "<title>node2:f2&#45;&gt;node4:f1</title>\n",
       "<path fill=\"none\" stroke=\"#000000\" d=\"M99,-71.8314C99,-64.131 99,-54.9743 99,-46.4166\"/>\n",
       "<polygon fill=\"#000000\" stroke=\"#000000\" points=\"102.5001,-46.4132 99,-36.4133 95.5001,-46.4133 102.5001,-46.4132\"/>\n",
       "</g>\n",
       "<!-- node6 -->\n",
       "<g id=\"node7\" class=\"node\">\n",
       "<title>node6</title>\n",
       "<ellipse fill=\"none\" stroke=\"#000000\" cx=\"171\" cy=\"-18\" rx=\"27\" ry=\"18\"/>\n",
       "<text text-anchor=\"middle\" x=\"171\" y=\"-13.8\" font-family=\"Times,serif\" font-size=\"14.00\" fill=\"#000000\">1.0</text>\n",
       "</g>\n",
       "<!-- node5&#45;&gt;node6 -->\n",
       "<g id=\"edge6\" class=\"edge\">\n",
       "<title>node5:f0&#45;&gt;node6:f1</title>\n",
       "<path fill=\"none\" stroke=\"#000000\" d=\"M221.3589,-72.937C212.6105,-63.3933 201.5868,-51.3674 192.0852,-41.002\"/>\n",
       "<polygon fill=\"#000000\" stroke=\"#000000\" points=\"194.5162,-38.4744 185.1789,-33.4679 189.3561,-43.2045 194.5162,-38.4744\"/>\n",
       "</g>\n",
       "<!-- node7 -->\n",
       "<g id=\"node8\" class=\"node\">\n",
       "<title>node7</title>\n",
       "<ellipse fill=\"none\" stroke=\"#000000\" cx=\"243\" cy=\"-18\" rx=\"27\" ry=\"18\"/>\n",
       "<text text-anchor=\"middle\" x=\"243\" y=\"-13.8\" font-family=\"Times,serif\" font-size=\"14.00\" fill=\"#000000\">0.0</text>\n",
       "</g>\n",
       "<!-- node5&#45;&gt;node7 -->\n",
       "<g id=\"edge7\" class=\"edge\">\n",
       "<title>node5:f2&#45;&gt;node7:f1</title>\n",
       "<path fill=\"none\" stroke=\"#000000\" d=\"M238.5141,-71.8314C239.1558,-64.131 239.9188,-54.9743 240.6319,-46.4166\"/>\n",
       "<polygon fill=\"#000000\" stroke=\"#000000\" points=\"244.1229,-46.6694 241.4656,-36.4133 237.1471,-46.088 244.1229,-46.6694\"/>\n",
       "</g>\n",
       "<!-- node9 -->\n",
       "<g id=\"node10\" class=\"node\">\n",
       "<title>node9</title>\n",
       "<ellipse fill=\"none\" stroke=\"#000000\" cx=\"349\" cy=\"-90\" rx=\"44.1648\" ry=\"18\"/>\n",
       "<text text-anchor=\"middle\" x=\"349\" y=\"-85.8\" font-family=\"Times,serif\" font-size=\"14.00\" fill=\"#000000\">sibsp&lt;2.0</text>\n",
       "</g>\n",
       "<!-- node8&#45;&gt;node9 -->\n",
       "<g id=\"edge9\" class=\"edge\">\n",
       "<title>node8:f0&#45;&gt;node9:f1</title>\n",
       "<path fill=\"none\" stroke=\"#000000\" d=\"M349,-143.8314C349,-136.131 349,-126.9743 349,-118.4166\"/>\n",
       "<polygon fill=\"#000000\" stroke=\"#000000\" points=\"352.5001,-118.4132 349,-108.4133 345.5001,-118.4133 352.5001,-118.4132\"/>\n",
       "</g>\n",
       "<!-- node12 -->\n",
       "<g id=\"node13\" class=\"node\">\n",
       "<title>node12</title>\n",
       "<ellipse fill=\"none\" stroke=\"#000000\" cx=\"459\" cy=\"-90\" rx=\"47.5225\" ry=\"18\"/>\n",
       "<text text-anchor=\"middle\" x=\"459\" y=\"-85.8\" font-family=\"Times,serif\" font-size=\"14.00\" fill=\"#000000\">pclass&lt;1.5</text>\n",
       "</g>\n",
       "<!-- node8&#45;&gt;node12 -->\n",
       "<g id=\"edge12\" class=\"edge\">\n",
       "<title>node8:f2&#45;&gt;node12:f1</title>\n",
       "<path fill=\"none\" stroke=\"#000000\" d=\"M371.5256,-147.256C387.262,-136.9558 408.5243,-123.0387 426.1456,-111.5047\"/>\n",
       "<polygon fill=\"#000000\" stroke=\"#000000\" points=\"428.5298,-114.1272 434.98,-105.7222 424.6962,-108.2703 428.5298,-114.1272\"/>\n",
       "</g>\n",
       "<!-- node10 -->\n",
       "<g id=\"node11\" class=\"node\">\n",
       "<title>node10</title>\n",
       "<ellipse fill=\"none\" stroke=\"#000000\" cx=\"315\" cy=\"-18\" rx=\"27\" ry=\"18\"/>\n",
       "<text text-anchor=\"middle\" x=\"315\" y=\"-13.8\" font-family=\"Times,serif\" font-size=\"14.00\" fill=\"#000000\">1.0</text>\n",
       "</g>\n",
       "<!-- node9&#45;&gt;node10 -->\n",
       "<g id=\"edge10\" class=\"edge\">\n",
       "<title>node9:f0&#45;&gt;node10:f1</title>\n",
       "<path fill=\"none\" stroke=\"#000000\" d=\"M340.5955,-72.2022C336.6549,-63.8574 331.878,-53.7417 327.5232,-44.5197\"/>\n",
       "<polygon fill=\"#000000\" stroke=\"#000000\" points=\"330.6255,-42.8925 323.1905,-35.3446 324.2957,-45.8816 330.6255,-42.8925\"/>\n",
       "</g>\n",
       "<!-- node11 -->\n",
       "<g id=\"node12\" class=\"node\">\n",
       "<title>node11</title>\n",
       "<ellipse fill=\"none\" stroke=\"#000000\" cx=\"387\" cy=\"-18\" rx=\"27\" ry=\"18\"/>\n",
       "<text text-anchor=\"middle\" x=\"387\" y=\"-13.8\" font-family=\"Times,serif\" font-size=\"14.00\" fill=\"#000000\">0.0</text>\n",
       "</g>\n",
       "<!-- node9&#45;&gt;node11 -->\n",
       "<g id=\"edge11\" class=\"edge\">\n",
       "<title>node9:f2&#45;&gt;node11:f1</title>\n",
       "<path fill=\"none\" stroke=\"#000000\" d=\"M358.3933,-72.2022C362.8768,-63.7071 368.3289,-53.3767 373.266,-44.0223\"/>\n",
       "<polygon fill=\"#000000\" stroke=\"#000000\" points=\"376.4042,-45.5748 377.9765,-35.0972 370.2135,-42.3074 376.4042,-45.5748\"/>\n",
       "</g>\n",
       "<!-- node13 -->\n",
       "<g id=\"node14\" class=\"node\">\n",
       "<title>node13</title>\n",
       "<ellipse fill=\"none\" stroke=\"#000000\" cx=\"459\" cy=\"-18\" rx=\"27\" ry=\"18\"/>\n",
       "<text text-anchor=\"middle\" x=\"459\" y=\"-13.8\" font-family=\"Times,serif\" font-size=\"14.00\" fill=\"#000000\">0.0</text>\n",
       "</g>\n",
       "<!-- node12&#45;&gt;node13 -->\n",
       "<g id=\"edge13\" class=\"edge\">\n",
       "<title>node12:f0&#45;&gt;node13:f1</title>\n",
       "<path fill=\"none\" stroke=\"#000000\" d=\"M459,-71.8314C459,-64.131 459,-54.9743 459,-46.4166\"/>\n",
       "<polygon fill=\"#000000\" stroke=\"#000000\" points=\"462.5001,-46.4132 459,-36.4133 455.5001,-46.4133 462.5001,-46.4132\"/>\n",
       "</g>\n",
       "<!-- node14 -->\n",
       "<g id=\"node15\" class=\"node\">\n",
       "<title>node14</title>\n",
       "<ellipse fill=\"none\" stroke=\"#000000\" cx=\"531\" cy=\"-18\" rx=\"27\" ry=\"18\"/>\n",
       "<text text-anchor=\"middle\" x=\"531\" y=\"-13.8\" font-family=\"Times,serif\" font-size=\"14.00\" fill=\"#000000\">0.0</text>\n",
       "</g>\n",
       "<!-- node12&#45;&gt;node14 -->\n",
       "<g id=\"edge14\" class=\"edge\">\n",
       "<title>node12:f2&#45;&gt;node14:f1</title>\n",
       "<path fill=\"none\" stroke=\"#000000\" d=\"M476.063,-72.937C485.8341,-63.1659 498.2072,-50.7928 508.7361,-40.2639\"/>\n",
       "<polygon fill=\"#000000\" stroke=\"#000000\" points=\"511.417,-42.5327 516.0132,-32.9868 506.4673,-37.583 511.417,-42.5327\"/>\n",
       "</g>\n",
       "</g>\n",
       "</svg>\n"
      ],
      "text/plain": [
       "<graphviz.dot.Digraph at 0x1a191b4e48>"
      ]
     },
     "execution_count": 38,
     "metadata": {},
     "output_type": "execute_result"
    }
   ],
   "source": [
    "classifier = DecisionTree(max_depth=3)\n",
    "classifier.fit(train_data, train_y)\n",
    "classifier.visualizeTree()"
   ]
  },
  {
   "cell_type": "code",
   "execution_count": null,
   "metadata": {},
   "outputs": [],
   "source": []
  }
 ],
 "metadata": {
  "kernelspec": {
   "display_name": "Python 3",
   "language": "python",
   "name": "python3"
  },
  "language_info": {
   "codemirror_mode": {
    "name": "ipython",
    "version": 3
   },
   "file_extension": ".py",
   "mimetype": "text/x-python",
   "name": "python",
   "nbconvert_exporter": "python",
   "pygments_lexer": "ipython3",
   "version": "3.7.1"
  }
 },
 "nbformat": 4,
 "nbformat_minor": 2
}
