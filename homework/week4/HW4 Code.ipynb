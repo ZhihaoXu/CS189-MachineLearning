{
 "cells": [
  {
   "cell_type": "code",
   "execution_count": 772,
   "metadata": {},
   "outputs": [],
   "source": [
    "import numpy as np\n",
    "import scipy.io\n",
    "from tqdm import tnrange, tqdm_notebook\n",
    "import pandas as pd\n",
    "def results_to_csv(y_test):\n",
    "    y_test = y_test.astype(int)\n",
    "    df = pd.DataFrame({'Category': y_test})\n",
    "    df.index += 1  # Ensures that the index starts at 1. \n",
    "    df.to_csv('submission.csv', index_label='Id')"
   ]
  },
  {
   "cell_type": "code",
   "execution_count": 773,
   "metadata": {},
   "outputs": [
    {
     "name": "stdout",
     "output_type": "stream",
     "text": [
      "[0. 1. 0. ... 0. 0. 0.]\n"
     ]
    }
   ],
   "source": [
    "path = \"data.mat\" \n",
    "data = scipy.io.loadmat(path)\n",
    "data_X = data[\"X\"]\n",
    "data_y = data[\"y\"].reshape((6000,))\n",
    "data_t = data[\"X_test\"]\n",
    "print(data_y)"
   ]
  },
  {
   "cell_type": "code",
   "execution_count": 774,
   "metadata": {},
   "outputs": [],
   "source": [
    "def sigmoid(x):\n",
    "    return 1/(1+np.exp(-x))\n",
    "\n",
    "def cost(w,lam):\n",
    "    s = sigmoid(np.dot(X_train,w0))\n",
    "    y = y_train\n",
    "    return lam * np.linalg.norm(w,ord=2) \\\n",
    "        - sum(y*np.log(s)+(1-y)*np.log(1-s))"
   ]
  },
  {
   "cell_type": "code",
   "execution_count": 775,
   "metadata": {},
   "outputs": [],
   "source": [
    "one = np.ones(6000)\n",
    "data_X = np.column_stack((one,data_X))\n",
    "one = np.ones(497)\n",
    "data_t = np.column_stack((one,data_t))"
   ]
  },
  {
   "cell_type": "code",
   "execution_count": 752,
   "metadata": {},
   "outputs": [],
   "source": [
    "X_train = data_X[0:5000]\n",
    "y_train = data_y[0:5000]\n",
    "X_validate = data_X[5000:6000]\n",
    "y_validate = data_y[5000:6000]"
   ]
  },
  {
   "cell_type": "code",
   "execution_count": 753,
   "metadata": {},
   "outputs": [
    {
     "name": "stdout",
     "output_type": "stream",
     "text": [
      "(5000, 13)\n"
     ]
    }
   ],
   "source": [
    "print(X_train.shape)"
   ]
  },
  {
   "cell_type": "code",
   "execution_count": 755,
   "metadata": {},
   "outputs": [],
   "source": [
    "lam = 0.1\n",
    "epi = 0.000001\n",
    "w0 = np.zeros(13)\n",
    "Allcost = []"
   ]
  },
  {
   "cell_type": "code",
   "execution_count": 756,
   "metadata": {},
   "outputs": [
    {
     "data": {
      "application/vnd.jupyter.widget-view+json": {
       "model_id": "21ea39f408f34f7a9c248ef40870ddc2",
       "version_major": 2,
       "version_minor": 0
      },
      "text/plain": [
       "HBox(children=(IntProgress(value=0, max=20000), HTML(value='')))"
      ]
     },
     "metadata": {},
     "output_type": "display_data"
    },
    {
     "name": "stdout",
     "output_type": "stream",
     "text": [
      "\n",
      "664.70472619889\n"
     ]
    },
    {
     "data": {
      "text/plain": [
       "array([ 0.06912021,  0.85446636,  1.26896844, -0.38979783, -0.15031483,\n",
       "        0.18845127,  0.03673803, -0.05861698,  0.08519431,  1.09549702,\n",
       "        0.89099679, -0.64664271, -0.07544602])"
      ]
     },
     "execution_count": 756,
     "metadata": {},
     "output_type": "execute_result"
    }
   ],
   "source": [
    "s = sigmoid(np.dot(X_train,w0))\n",
    "for i in tqdm_notebook(range(20000)):\n",
    "    w0 = w0 - epi * (2 * lam * w0 \\ \n",
    "                     - np.matmul(X_train.T,y_train-s))\n",
    "    s = sigmoid(np.dot(X_train,w0))\n",
    "    Allcost.append(cost(w0,lam))\n",
    "    \n",
    "print(Allcost[-1])\n",
    "w0"
   ]
  },
  {
   "cell_type": "code",
   "execution_count": 780,
   "metadata": {},
   "outputs": [
    {
     "data": {
      "text/plain": [
       "0.987"
      ]
     },
     "execution_count": 780,
     "metadata": {},
     "output_type": "execute_result"
    }
   ],
   "source": [
    "# validation\n",
    "s = sigmoid(np.dot(X_validate,w0))\n",
    "y = np.where(s>0.5,1,0)\n",
    "sum(y==y_validate)/y_validate.size"
   ]
  },
  {
   "cell_type": "code",
   "execution_count": 781,
   "metadata": {},
   "outputs": [
    {
     "data": {
      "text/plain": [
       "0.9873333333333333"
      ]
     },
     "execution_count": 781,
     "metadata": {},
     "output_type": "execute_result"
    }
   ],
   "source": [
    "s = sigmoid(np.dot(X_train,w0))\n",
    "y = np.where(s>0.5,1,0)\n",
    "sum(y==y_train)/y_train.size"
   ]
  },
  {
   "cell_type": "code",
   "execution_count": 771,
   "metadata": {
    "scrolled": true
   },
   "outputs": [
    {
     "data": {
      "image/png": "[encoded data removed]",
      "text/plain": [
       "<Figure size 432x288 with 1 Axes>"
      ]
     },
     "metadata": {
      "needs_background": "light"
     },
     "output_type": "display_data"
    }
   ],
   "source": [
    "import matplotlib.pyplot as plt\n",
    "%matplotlib inline\n",
    "plt.plot(Allcost,c=\"blue\")\n",
    "plt.xlabel(\"# of iteration\")\n",
    "plt.ylabel(\"cost\")\n",
    "plt.title(\"Batch Gradient Descent\")\n",
    "plt.show()"
   ]
  },
  {
   "cell_type": "code",
   "execution_count": 760,
   "metadata": {},
   "outputs": [],
   "source": [
    "lam = 0.01\n",
    "epi = 0.000001\n",
    "w0 = np.ones(13)\n",
    "Allcost = []\n",
    "s = sigmoid(np.dot(X_train,w0))\n",
    "w0 = w0 - epi * (2 * lam * w0  \\ \n",
    "                 - np.matmul(X_train.T,y_train-s))"
   ]
  },
  {
   "cell_type": "code",
   "execution_count": 761,
   "metadata": {},
   "outputs": [
    {
     "name": "stderr",
     "output_type": "stream",
     "text": [
      "/Users/xuzhihao/anaconda3/lib/python3.7/site-packages/ipykernel_launcher.py:7: RuntimeWarning: divide by zero encountered in log\n",
      "  import sys\n",
      "/Users/xuzhihao/anaconda3/lib/python3.7/site-packages/ipykernel_launcher.py:7: RuntimeWarning: invalid value encountered in multiply\n",
      "  import sys\n"
     ]
    }
   ],
   "source": [
    "for j in range(20):\n",
    "    shuffle = np.arange(X_train.shape[0])\n",
    "    np.random.shuffle(shuffle)\n",
    "    X_train = X_train[shuffle]\n",
    "    y_train = y_train[shuffle]\n",
    "\n",
    "    s = sigmoid(np.dot(X_train,w0))\n",
    "    pred = np.where(s>0.5,1,0)\n",
    "    index = np.where(pred!=y_train)\n",
    "    # print(len(index[0]))\n",
    "\n",
    "    for i in index[0]:\n",
    "        w0 = w0 - epi * (2*lam*w0 - X_train[i,].T * \\\n",
    "                         (y_train[i] - \\\n",
    "                          sigmoid(np.dot(X_train[i,].T,w0))))\n",
    "        Allcost.append(cost(w0,lam))\n"
   ]
  },
  {
   "cell_type": "code",
   "execution_count": 762,
   "metadata": {},
   "outputs": [
    {
     "name": "stdout",
     "output_type": "stream",
     "text": [
      "4203.8182363069545\n"
     ]
    },
    {
     "data": {
      "text/plain": [
       "array([ 0.98748506,  0.91948041,  0.9973006 ,  0.99548446,  0.9101857 ,\n",
       "        0.99927577,  0.54598668, -0.48987923,  0.98757335,  0.96138626,\n",
       "        0.99443415,  0.8661378 ,  0.99220328])"
      ]
     },
     "execution_count": 762,
     "metadata": {},
     "output_type": "execute_result"
    }
   ],
   "source": [
    "print(Allcost[-1])\n",
    "w0"
   ]
  },
  {
   "cell_type": "code",
   "execution_count": 763,
   "metadata": {},
   "outputs": [
    {
     "data": {
      "text/plain": [
       "0.912"
      ]
     },
     "execution_count": 763,
     "metadata": {},
     "output_type": "execute_result"
    }
   ],
   "source": [
    "# validation\n",
    "s = sigmoid(np.dot(X_validate,w0))\n",
    "y = np.where(s>0.5,1,0)\n",
    "sum(y==y_validate)/y_validate.size"
   ]
  },
  {
   "cell_type": "code",
   "execution_count": 766,
   "metadata": {},
   "outputs": [
    {
     "data": {
      "image/png": "[encoded data removed]",
      "text/plain": [
       "<Figure size 432x288 with 1 Axes>"
      ]
     },
     "metadata": {
      "needs_background": "light"
     },
     "output_type": "display_data"
    }
   ],
   "source": [
    "import matplotlib.pyplot as plt\n",
    "%matplotlib inline\n",
    "x = list(range(1,len(Allcost)+1))\n",
    "plt.plot(x,Allcost,c=\"blue\")\n",
    "plt.xlabel(\"# of iteration\")\n",
    "plt.ylabel(\"cost\")\n",
    "plt.title(\"stochastic Gradient Descent\")\n",
    "plt.show()"
   ]
  },
  {
   "cell_type": "code",
   "execution_count": 557,
   "metadata": {},
   "outputs": [
    {
     "data": {
      "text/plain": [
       "0.9072"
      ]
     },
     "execution_count": 557,
     "metadata": {},
     "output_type": "execute_result"
    }
   ],
   "source": [
    "s = sigmoid(np.dot(X_train,w0))\n",
    "y = np.where(s>0.5,1,0)\n",
    "sum(y==y_train)/y_train.size"
   ]
  },
  {
   "cell_type": "code",
   "execution_count": 627,
   "metadata": {},
   "outputs": [
    {
     "name": "stderr",
     "output_type": "stream",
     "text": [
      "/Users/xuzhihao/anaconda3/lib/python3.7/site-packages/ipykernel_launcher.py:7: RuntimeWarning: divide by zero encountered in log\n",
      "  import sys\n",
      "/Users/xuzhihao/anaconda3/lib/python3.7/site-packages/ipykernel_launcher.py:7: RuntimeWarning: invalid value encountered in multiply\n",
      "  import sys\n"
     ]
    }
   ],
   "source": [
    "# 3\n",
    "lam = 0.01\n",
    "epi0 = 0.01\n",
    "w0 = np.ones(13)\n",
    "Allcost = []\n",
    "s = sigmoid(np.dot(X_train,w0))\n",
    "w0 = w0 - epi * (2 * lam * w0 - np.matmul(X_train.T,y_train-s))\n",
    "t = 1\n",
    "for j in range(20):\n",
    "    shuffle = np.arange(X_train.shape[0])\n",
    "    np.random.shuffle(shuffle)\n",
    "    X_train = X_train[shuffle]\n",
    "    y_train = y_train[shuffle]\n",
    "\n",
    "    s = sigmoid(np.dot(X_train,w0))\n",
    "    pred = np.where(s>0.5,1,0)\n",
    "    index = np.where(pred!=y_train)\n",
    "    # print(len(index[0]))\n",
    "\n",
    "    for i in index[0]:\n",
    "        epi = epi0/t\n",
    "        t += 1\n",
    "        w0 = w0 - epi * (2*lam*w0 - X_train[i,].T * \\\n",
    "                         (y_train[i] - \\\n",
    "                          sigmoid(np.dot(X_train[i,].T,w0))))\n",
    "        Allcost.append(cost(w0,lam))"
   ]
  },
  {
   "cell_type": "code",
   "execution_count": 768,
   "metadata": {},
   "outputs": [
    {
     "data": {
      "image/png": "[encoded data removed]",
      "text/plain": [
       "<Figure size 432x288 with 1 Axes>"
      ]
     },
     "metadata": {
      "needs_background": "light"
     },
     "output_type": "display_data"
    }
   ],
   "source": [
    "x = list(range(1,len(Allcost)+1))\n",
    "plt.plot(x,Allcost,c=\"blue\")\n",
    "plt.xlabel(\"# of iteration\")\n",
    "plt.ylabel(\"cost\")\n",
    "plt.title(\"stochastic Gradient Descent with dynamic learning rate\")\n",
    "plt.show()"
   ]
  },
  {
   "cell_type": "code",
   "execution_count": 778,
   "metadata": {},
   "outputs": [],
   "source": [
    "# 4\n",
    "X_train = data_X[0:6000]\n",
    "y_train = data_y[0:6000]\n",
    "lam = 0.1\n",
    "epi = 0.000001\n",
    "w0 = np.zeros(13)"
   ]
  },
  {
   "cell_type": "code",
   "execution_count": 784,
   "metadata": {},
   "outputs": [
    {
     "data": {
      "application/vnd.jupyter.widget-view+json": {
       "model_id": "1bf449d894fd42758bad2982e9d706b8",
       "version_major": 2,
       "version_minor": 0
      },
      "text/plain": [
       "HBox(children=(IntProgress(value=0, max=200000), HTML(value='')))"
      ]
     },
     "metadata": {},
     "output_type": "display_data"
    },
    {
     "name": "stdout",
     "output_type": "stream",
     "text": [
      "322.1697449747901\n"
     ]
    },
    {
     "data": {
      "text/plain": [
       "array([-9.92249995,  0.87525725, 10.45748972, -0.09494907, -0.1360978 ,\n",
       "        9.79187698,  0.04754474, -0.06267716, -8.89271274,  4.48054233,\n",
       "        8.47941252, -0.7003933 , -0.37833007])"
      ]
     },
     "execution_count": 784,
     "metadata": {},
     "output_type": "execute_result"
    }
   ],
   "source": [
    "s = sigmoid(np.dot(X_train,w0))\n",
    "for i in tqdm_notebook(range(200000)):\n",
    "    w0 = w0 - epi * (2 * lam * w0 - np.matmul(X_train.T,y_train-s))\n",
    "    s = sigmoid(np.dot(X_train,w0))\n",
    "    \n",
    "print(cost(w0,lam))\n",
    "w0"
   ]
  },
  {
   "cell_type": "code",
   "execution_count": 785,
   "metadata": {},
   "outputs": [],
   "source": [
    "s = sigmoid(np.dot(data_t,w0))\n",
    "y = np.where(s>0.5,1,0)\n",
    "results_to_csv(y)"
   ]
  },
  {
   "cell_type": "code",
   "execution_count": 782,
   "metadata": {},
   "outputs": [
    {
     "name": "stdout",
     "output_type": "stream",
     "text": [
      "322.1697449756668\n"
     ]
    }
   ],
   "source": [
    "print(cost(w0,lam))"
   ]
  },
  {
   "cell_type": "code",
   "execution_count": null,
   "metadata": {},
   "outputs": [],
   "source": []
  }
 ],
 "metadata": {
  "kernelspec": {
   "display_name": "Python 3",
   "language": "python",
   "name": "python3"
  },
  "language_info": {
   "codemirror_mode": {
    "name": "ipython",
    "version": 3
   },
   "file_extension": ".py",
   "mimetype": "text/x-python",
   "name": "python",
   "nbconvert_exporter": "python",
   "pygments_lexer": "ipython3",
   "version": "3.7.1"
  }
 },
 "nbformat": 4,
 "nbformat_minor": 2
}
