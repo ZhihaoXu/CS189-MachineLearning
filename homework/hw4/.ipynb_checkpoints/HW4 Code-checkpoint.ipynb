{
 "cells": [
  {
   "cell_type": "code",
   "execution_count": 464,
   "metadata": {},
   "outputs": [],
   "source": [
    "import numpy as np\n",
    "import scipy.io\n",
    "import pandas as pd\n",
    "def results_to_csv(y_test):\n",
    "    y_test = y_test.astype(int)\n",
    "    df = pd.DataFrame({'Category': y_test})\n",
    "    df.index += 1  # Ensures that the index starts at 1. \n",
    "    df.to_csv('submission.csv', index_label='Id')"
   ]
  },
  {
   "cell_type": "code",
   "execution_count": 465,
   "metadata": {},
   "outputs": [
    {
     "name": "stdout",
     "output_type": "stream",
     "text": [
      "[0. 1. 0. ... 0. 0. 0.]\n"
     ]
    }
   ],
   "source": [
    "path = \"data.mat\" \n",
    "data = scipy.io.loadmat(path)\n",
    "data_X = data[\"X\"]\n",
    "data_y = data[\"y\"].reshape((6000,))\n",
    "data_t = data[\"X_test\"]\n",
    "print(data_y)"
   ]
  },
  {
   "cell_type": "code",
   "execution_count": 466,
   "metadata": {},
   "outputs": [],
   "source": [
    "def sigmoid(x):\n",
    "    return 1/(1+np.exp(-x))\n",
    "\n",
    "def cost(w,lam):\n",
    "    s = sigmoid(np.dot(X_train,w0))\n",
    "    y = np.where(s>0.5,1,0)\n",
    "    return lam * np.linalg.norm(w,ord=2) - sum(y*np.log(s)+(1-y)*np.log(1-s))"
   ]
  },
  {
   "cell_type": "code",
   "execution_count": 467,
   "metadata": {},
   "outputs": [],
   "source": [
    "one = np.ones(6000)\n",
    "data_X = np.column_stack((one,data_X))\n",
    "one = np.ones(497)\n",
    "data_t = np.column_stack((one,data_t))"
   ]
  },
  {
   "cell_type": "code",
   "execution_count": 478,
   "metadata": {},
   "outputs": [],
   "source": [
    "X_train = data_X[0:5000]\n",
    "y_train = data_y[0:5000]\n",
    "X_validate = data_X[5000:6000]\n",
    "y_validate = data_y[5000:6000]"
   ]
  },
  {
   "cell_type": "code",
   "execution_count": 479,
   "metadata": {},
   "outputs": [
    {
     "name": "stdout",
     "output_type": "stream",
     "text": [
      "(5000, 13)\n"
     ]
    }
   ],
   "source": [
    "print(X_train.shape)"
   ]
  },
  {
   "cell_type": "code",
   "execution_count": 480,
   "metadata": {},
   "outputs": [],
   "source": [
    "lam = 0.1\n",
    "epi = 0.000001\n",
    "w0 = np.zeros(13)\n",
    "Allcost = []"
   ]
  },
  {
   "cell_type": "code",
   "execution_count": 490,
   "metadata": {},
   "outputs": [
    {
     "name": "stdout",
     "output_type": "stream",
     "text": [
      "161.14452460784455\n"
     ]
    },
    {
     "data": {
      "text/plain": [
       "array([-3.73680114,  0.70431919,  9.74045718, -0.80284121, -0.1639212 ,\n",
       "        2.6935697 ,  0.04821538, -0.06322317, -3.44663873,  2.18931883,\n",
       "        8.36321242, -0.85024501, -0.72628702])"
      ]
     },
     "execution_count": 490,
     "metadata": {},
     "output_type": "execute_result"
    }
   ],
   "source": [
    "s = sigmoid(np.dot(X_train,w0))\n",
    "for i in range(200000):\n",
    "    w0 = w0 - epi * (2 * lam * w0 - np.matmul(X_train.T,y_train-s))\n",
    "    s = sigmoid(np.dot(X_train,w0))\n",
    "    Allcost.append(cost(w0,lam))\n",
    "    \n",
    "print(Allcost[-1])\n",
    "w0"
   ]
  },
  {
   "cell_type": "code",
   "execution_count": 493,
   "metadata": {},
   "outputs": [
    {
     "data": {
      "text/plain": [
       "0.257"
      ]
     },
     "execution_count": 493,
     "metadata": {},
     "output_type": "execute_result"
    }
   ],
   "source": [
    "# validation\n",
    "s = sigmoid(np.dot(X_validate,w0))\n",
    "y = np.where(s>0.5,1,0)\n",
    "sum(y==y_validate)/y_validate.size"
   ]
  },
  {
   "cell_type": "code",
   "execution_count": 286,
   "metadata": {},
   "outputs": [
    {
     "data": {
      "image/png": "[encoded data removed]",
      "text/plain": [
       "<Figure size 432x288 with 1 Axes>"
      ]
     },
     "metadata": {
      "needs_background": "light"
     },
     "output_type": "display_data"
    }
   ],
   "source": [
    "import matplotlib.pyplot as plt\n",
    "%matplotlib inline\n",
    "plt.plot(Allcost,c=\"blue\")\n",
    "plt.xlabel(\"# of iteration\")\n",
    "plt.ylabel(\"cost\")\n",
    "plt.show()"
   ]
  },
  {
   "cell_type": "code",
   "execution_count": 499,
   "metadata": {},
   "outputs": [],
   "source": [
    "lam = 0.01\n",
    "epi = 0.0000001\n",
    "w0 = np.ones(13)\n",
    "Allcost = []\n",
    "s = sigmoid(np.dot(X_train,w0))\n",
    "w0 = w0 - epi * (2 * lam * w0 - np.matmul(X_train.T,y_train-s))"
   ]
  },
  {
   "cell_type": "code",
   "execution_count": 500,
   "metadata": {},
   "outputs": [
    {
     "name": "stderr",
     "output_type": "stream",
     "text": [
      "/Users/xuzhihao/anaconda3/lib/python3.7/site-packages/ipykernel_launcher.py:7: RuntimeWarning: divide by zero encountered in log\n",
      "  import sys\n",
      "/Users/xuzhihao/anaconda3/lib/python3.7/site-packages/ipykernel_launcher.py:7: RuntimeWarning: invalid value encountered in multiply\n",
      "  import sys\n"
     ]
    }
   ],
   "source": [
    "for j in range(100):\n",
    "    shuffle = np.arange(X_train.shape[0])\n",
    "    np.random.shuffle(shuffle)\n",
    "    X_train = X_train[shuffle]\n",
    "    y_train = y_train[shuffle]\n",
    "\n",
    "    s = sigmoid(np.dot(X_train,w0))\n",
    "    pred = np.where(s>0.5,1,0)\n",
    "    index = np.where(pred!=y_train)\n",
    "    # print(len(index[0]))\n",
    "\n",
    "    for i in index[0]:\n",
    "        w0 = w0 - epi * (2*lam*w0 - X_train[i,].T * (y_train[i] - sigmoid(np.dot(X_train[i,].T,w0))))\n",
    "        Allcost.append(cost(w0,lam))\n"
   ]
  },
  {
   "cell_type": "code",
   "execution_count": 496,
   "metadata": {},
   "outputs": [
    {
     "name": "stdout",
     "output_type": "stream",
     "text": [
      "102.99319898183154\n"
     ]
    },
    {
     "data": {
      "text/plain": [
       "array([ 0.98809209,  0.92138416,  0.99691072,  0.99578805,  0.9207962 ,\n",
       "        0.99925269,  0.57671665, -0.50176574,  0.98816837,  0.96288007,\n",
       "        0.99432026,  0.87489421,  0.99273078])"
      ]
     },
     "execution_count": 496,
     "metadata": {},
     "output_type": "execute_result"
    }
   ],
   "source": [
    "print(Allcost[-1])\n",
    "w0"
   ]
  },
  {
   "cell_type": "code",
   "execution_count": 497,
   "metadata": {},
   "outputs": [
    {
     "data": {
      "text/plain": [
       "0.91"
      ]
     },
     "execution_count": 497,
     "metadata": {},
     "output_type": "execute_result"
    }
   ],
   "source": [
    "# validation\n",
    "s = sigmoid(np.dot(X_validate,w0))\n",
    "y = np.where(s>0.5,1,0)\n",
    "sum(y==y_validate)/y_validate.size"
   ]
  },
  {
   "cell_type": "code",
   "execution_count": 498,
   "metadata": {},
   "outputs": [
    {
     "data": {
      "image/png": "[encoded data removed]",
      "text/plain": [
       "<Figure size 432x288 with 1 Axes>"
      ]
     },
     "metadata": {
      "needs_background": "light"
     },
     "output_type": "display_data"
    }
   ],
   "source": [
    "import matplotlib.pyplot as plt\n",
    "%matplotlib inline\n",
    "plt.plot(Allcost,c=\"blue\")\n",
    "plt.xlabel(\"# of iteration\")\n",
    "plt.ylabel(\"cost\")\n",
    "plt.show()"
   ]
  },
  {
   "cell_type": "code",
   "execution_count": 421,
   "metadata": {},
   "outputs": [
    {
     "name": "stdout",
     "output_type": "stream",
     "text": [
      "[  1.       6.4      0.27     0.32     4.5      0.24    61.     174.\n",
      "   0.9948   3.12     0.48     9.4      0.5   ]\n",
      "[ 0.01975707  0.01841174  0.01994219  0.01991359  0.01832209  0.01998576\n",
      "  0.0112725  -0.00994935  0.0197587   0.01924529  0.01988799  0.01742279\n",
      "  0.01985052]\n"
     ]
    }
   ],
   "source": [
    "print(X_train[1,].T)\n",
    "print(2*lam*w0 - X_train[1,].T * (y[1] - sigmoid(np.dot(X_train[1,].T,w0))))"
   ]
  },
  {
   "cell_type": "code",
   "execution_count": 267,
   "metadata": {},
   "outputs": [
    {
     "data": {
      "text/plain": [
       "1162"
      ]
     },
     "execution_count": 267,
     "metadata": {},
     "output_type": "execute_result"
    }
   ],
   "source": [
    "s = sigmoid(np.dot(X_train,w0))\n",
    "y = np.where(s>0.5,1,0)\n",
    "sum(y==y_train)/y_train.size"
   ]
  },
  {
   "cell_type": "code",
   "execution_count": 476,
   "metadata": {},
   "outputs": [
    {
     "name": "stdout",
     "output_type": "stream",
     "text": [
      "211.56816047916965\n"
     ]
    },
    {
     "data": {
      "text/plain": [
       "array([-1.03632208,  0.61466697,  6.3982676 , -1.21730303, -0.15299409,\n",
       "        1.11427858,  0.04214495, -0.06293837, -0.92852166,  1.99570672,\n",
       "        4.84123678, -0.89544334, -0.42925887])"
      ]
     },
     "execution_count": 476,
     "metadata": {},
     "output_type": "execute_result"
    }
   ],
   "source": [
    "# 4\n",
    "lam = 0.1\n",
    "epi = 0.000001\n",
    "w0 = np.zeros(13)\n",
    "s = sigmoid(np.dot(data_X,w0))\n",
    "for i in range(200000):\n",
    "    w0 = w0 - epi * (2 * lam * w0 - np.matmul(data_X.T,data_y-s))\n",
    "    s = sigmoid(np.dot(data_X,w0))\n",
    "    \n",
    "print(cost(w0,lam))\n",
    "w0"
   ]
  },
  {
   "cell_type": "code",
   "execution_count": 475,
   "metadata": {},
   "outputs": [],
   "source": [
    "s = sigmoid(np.dot(data_t,w0))\n",
    "y = np.where(s>0.5,1,0)\n",
    "results_to_csv(y)"
   ]
  },
  {
   "cell_type": "code",
   "execution_count": null,
   "metadata": {},
   "outputs": [],
   "source": []
  }
 ],
 "metadata": {
  "kernelspec": {
   "display_name": "Python 3",
   "language": "python",
   "name": "python3"
  },
  "language_info": {
   "codemirror_mode": {
    "name": "ipython",
    "version": 3
   },
   "file_extension": ".py",
   "mimetype": "text/x-python",
   "name": "python",
   "nbconvert_exporter": "python",
   "pygments_lexer": "ipython3",
   "version": "3.7.1"
  }
 },
 "nbformat": 4,
 "nbformat_minor": 2
}
