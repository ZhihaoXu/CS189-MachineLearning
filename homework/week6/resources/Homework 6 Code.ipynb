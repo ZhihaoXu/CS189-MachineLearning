{
 "cells": [
  {
   "cell_type": "code",
   "execution_count": 1,
   "metadata": {},
   "outputs": [],
   "source": [
    "import pandas as pd\n",
    "def results_to_csv(y_test,dataname):\n",
    "    y_test = y_test.astype(int)\n",
    "    df = pd.DataFrame({'Category': y_test})\n",
    "    df.index += 1 # Ensures that the index starts at 1. \n",
    "    df.to_csv(dataname+'submission.csv', index_label='Id')"
   ]
  },
  {
   "cell_type": "markdown",
   "metadata": {},
   "source": [
    "# example of gradient checking: affine transformation"
   ]
  },
  {
   "cell_type": "code",
   "execution_count": 2,
   "metadata": {},
   "outputs": [
    {
     "name": "stdout",
     "output_type": "stream",
     "text": [
      "[[ 2.64528394 -2.96322162 -0.76223478  1.62866452]\n",
      " [ 1.15500095 -1.53884306 -0.24904242  1.28048743]\n",
      " [-4.53968039  4.51152205  1.50427081 -1.46168856]]\n",
      "[[ 2.64528394 -2.96322162 -0.76223478  1.62866452]\n",
      " [ 1.15500095 -1.53884306 -0.24904242  1.28048743]\n",
      " [-4.53968039  4.51152205  1.50427081 -1.46168856]]\n"
     ]
    }
   ],
   "source": [
    "# gradient checking: compare the analytical gradient with the numerical gradient\n",
    "# taking the affine layer as an example\n",
    "from gradient_check import eval_numerical_gradient_array\n",
    "import numpy as np\n",
    "from tqdm import tqdm_notebook\n",
    "from layers import *\n",
    "N = 2\n",
    "D = 3\n",
    "M = 4\n",
    "x = np.random.normal(size=(N, D))\n",
    "w = np.random.normal(size=(D, M))\n",
    "b = np.random.normal(size=(M, ))\n",
    "dout = np.random.normal(size=(N, M))\n",
    "\n",
    "# do a forward pass first\n",
    "out, cache = affine_forward(x, w, b)\n",
    "# check grad f/grad w, the [0] below gets the output out of the (output, cache) original output\n",
    "f=lambda w: affine_forward(x, w, b)[0]\n",
    "# compute the analytical gradient you wrote, [1] get the dw out of the (dx, dw, db) original output\n",
    "grad = affine_backward(dout, cache)[1]\n",
    "# compute the numerical gradient using the provided utility function\n",
    "ngrad = eval_numerical_gradient_array(f, w, dout)\n",
    "print(grad)\n",
    "print(ngrad)\n",
    "# they should be similar enough within some small error tolerance"
   ]
  },
  {
   "cell_type": "markdown",
   "metadata": {},
   "source": [
    "# example of gradient checking: ReLU"
   ]
  },
  {
   "cell_type": "code",
   "execution_count": 19,
   "metadata": {},
   "outputs": [
    {
     "name": "stdout",
     "output_type": "stream",
     "text": [
      "[[ 0.6075281   0.         -0.0567495 ]\n",
      " [ 0.00940507 -0.20690946  0.        ]]\n",
      "[[ 0.6075281   0.         -0.0567495 ]\n",
      " [ 0.00940507 -0.20690946  0.        ]]\n"
     ]
    }
   ],
   "source": [
    "N = 2\n",
    "D = 3\n",
    "M = 4\n",
    "x = np.random.normal(size=(N, D))\n",
    "w = np.random.normal(size=(D, M))\n",
    "b = np.random.normal(size=(M, ))\n",
    "dout = np.random.normal(size=(N, D))\n",
    "\n",
    "out, cache = relu_forward(x)\n",
    "grad = relu_backward(dout, cache)\n",
    "ngrad = eval_numerical_gradient_array(lambda x: relu_forward(x)[0], x, dout)\n",
    "print(grad)\n",
    "print(ngrad)"
   ]
  },
  {
   "cell_type": "markdown",
   "metadata": {},
   "source": [
    "# example of gradient checking: Softmax Loss"
   ]
  },
  {
   "cell_type": "code",
   "execution_count": 21,
   "metadata": {},
   "outputs": [
    {
     "name": "stdout",
     "output_type": "stream",
     "text": [
      "[[-0.12494204  0.12494204]\n",
      " [-0.12512408  0.12512408]\n",
      " [ 0.12497339 -0.12497339]\n",
      " [-0.12487521  0.12487521]]\n",
      "[[-0.12494204  0.12494204]\n",
      " [-0.12512408  0.12512408]\n",
      " [ 0.12497339 -0.12497339]\n",
      " [-0.12487521  0.12487521]]\n"
     ]
    }
   ],
   "source": [
    "N = 2\n",
    "D = 3\n",
    "M = 4\n",
    "x = np.random.normal(size=(N, D))\n",
    "w = np.random.normal(size=(D, M))\n",
    "b = np.random.normal(size=(M, ))\n",
    "dout = np.random.normal(size=(N, D))\n",
    "\n",
    "num_classes, num_inputs = 2,4\n",
    "x = 0.001 * np.random.normal(size=(num_inputs, num_classes))\n",
    "y = np.random.randint(num_classes, size=num_inputs)\n",
    "\n",
    "ngrad = eval_numerical_gradient_array(lambda x: softmax_loss(x, y)[0], x, 1)\n",
    "loss, grad = softmax_loss(x, y)\n",
    "print(grad)\n",
    "print(ngrad)"
   ]
  },
  {
   "cell_type": "markdown",
   "metadata": {},
   "source": [
    "# example of training a network"
   ]
  },
  {
   "cell_type": "code",
   "execution_count": 41,
   "metadata": {},
   "outputs": [],
   "source": [
    "# Load the dataset\n",
    "import scipy.io\n",
    "import numpy as np\n",
    "data =   scipy.io.loadmat(\"mnist_data.mat\")\n",
    "X = data['training_data']\n",
    "y = data['training_labels'].ravel()\n",
    "X_test = data['test_data']\n",
    "\n",
    "# Split the data into a training set and validation set.\n",
    "num_train = X.shape[0]\n",
    "indices = np.array(range(num_train))\n",
    "np.random.shuffle(indices)\n",
    "train_indices, val_indices = indices[0:60000], indices[50000:]\n",
    "X_train, X_val = X[train_indices], X[val_indices]\n",
    "y_train, y_val = y[train_indices], y[val_indices]\n",
    "\n",
    "from solver import Solver\n",
    "from classifiers.fc_net import FullyConnectedNet"
   ]
  },
  {
   "cell_type": "code",
   "execution_count": 42,
   "metadata": {},
   "outputs": [],
   "source": [
    "data = {\n",
    "      'X_train': X_train,\n",
    "      'y_train': y_train,\n",
    "      'X_val': X_val,\n",
    "      'y_val': y_val}"
   ]
  },
  {
   "cell_type": "code",
   "execution_count": 43,
   "metadata": {},
   "outputs": [
    {
     "name": "stdout",
     "output_type": "stream",
     "text": [
      "(Iteration 1 / 750000) loss: 258.498597\n",
      "(Epoch 0 / 25) train acc: 0.130000; val_acc: 0.125100\n",
      "(Iteration 10001 / 750000) loss: 0.039245\n",
      "(Iteration 20001 / 750000) loss: 0.008236\n",
      "(Epoch 1 / 25) train acc: 0.923000; val_acc: 0.918000\n",
      "(Iteration 30001 / 750000) loss: 0.736279\n",
      "(Iteration 40001 / 750000) loss: 0.025894\n",
      "(Iteration 50001 / 750000) loss: 0.065341\n",
      "(Epoch 2 / 25) train acc: 0.934000; val_acc: 0.941400\n",
      "(Iteration 60001 / 750000) loss: 0.211746\n",
      "(Iteration 70001 / 750000) loss: 0.003600\n",
      "(Iteration 80001 / 750000) loss: 0.056277\n",
      "(Epoch 3 / 25) train acc: 0.954000; val_acc: 0.947200\n",
      "(Iteration 90001 / 750000) loss: 1.394405\n",
      "(Iteration 100001 / 750000) loss: 0.020511\n",
      "(Iteration 110001 / 750000) loss: 0.541860\n",
      "(Epoch 4 / 25) train acc: 0.960000; val_acc: 0.950300\n",
      "(Iteration 120001 / 750000) loss: 0.030058\n",
      "(Iteration 130001 / 750000) loss: 0.012533\n",
      "(Iteration 140001 / 750000) loss: 0.213835\n",
      "(Epoch 5 / 25) train acc: 0.962000; val_acc: 0.959300\n",
      "(Iteration 150001 / 750000) loss: 0.111341\n",
      "(Iteration 160001 / 750000) loss: 0.014353\n",
      "(Iteration 170001 / 750000) loss: 0.013220\n",
      "(Epoch 6 / 25) train acc: 0.952000; val_acc: 0.949900\n",
      "(Iteration 180001 / 750000) loss: 0.047590\n",
      "(Iteration 190001 / 750000) loss: 0.026894\n",
      "(Iteration 200001 / 750000) loss: 0.000260\n",
      "(Epoch 7 / 25) train acc: 0.952000; val_acc: 0.956400\n",
      "(Iteration 210001 / 750000) loss: 0.028126\n",
      "(Iteration 220001 / 750000) loss: 0.149967\n",
      "(Iteration 230001 / 750000) loss: 0.008265\n",
      "(Epoch 8 / 25) train acc: 0.959000; val_acc: 0.951400\n",
      "(Iteration 240001 / 750000) loss: 0.046896\n",
      "(Iteration 250001 / 750000) loss: 0.246518\n",
      "(Iteration 260001 / 750000) loss: 0.002981\n",
      "(Epoch 9 / 25) train acc: 0.956000; val_acc: 0.955000\n",
      "(Iteration 270001 / 750000) loss: 0.080011\n",
      "(Iteration 280001 / 750000) loss: 0.096976\n",
      "(Iteration 290001 / 750000) loss: 0.788258\n",
      "(Epoch 10 / 25) train acc: 0.955000; val_acc: 0.955100\n",
      "(Iteration 300001 / 750000) loss: 0.100553\n",
      "(Iteration 310001 / 750000) loss: 0.051130\n",
      "(Iteration 320001 / 750000) loss: 0.090370\n",
      "(Epoch 11 / 25) train acc: 0.962000; val_acc: 0.957800\n",
      "(Iteration 330001 / 750000) loss: 0.012054\n",
      "(Iteration 340001 / 750000) loss: 0.109107\n",
      "(Iteration 350001 / 750000) loss: 0.289084\n",
      "(Epoch 12 / 25) train acc: 0.953000; val_acc: 0.957300\n",
      "(Iteration 360001 / 750000) loss: 0.020724\n",
      "(Iteration 370001 / 750000) loss: 0.048468\n",
      "(Iteration 380001 / 750000) loss: 0.053866\n",
      "(Epoch 13 / 25) train acc: 0.970000; val_acc: 0.959800\n",
      "(Iteration 390001 / 750000) loss: 0.030004\n",
      "(Iteration 400001 / 750000) loss: 0.130754\n",
      "(Iteration 410001 / 750000) loss: 0.075145\n",
      "(Epoch 14 / 25) train acc: 0.941000; val_acc: 0.952000\n",
      "(Iteration 420001 / 750000) loss: 0.022341\n",
      "(Iteration 430001 / 750000) loss: 0.218481\n",
      "(Iteration 440001 / 750000) loss: 0.024710\n",
      "(Epoch 15 / 25) train acc: 0.954000; val_acc: 0.954100\n",
      "(Iteration 450001 / 750000) loss: 0.059336\n",
      "(Iteration 460001 / 750000) loss: 0.015866\n",
      "(Iteration 470001 / 750000) loss: 0.004587\n",
      "(Epoch 16 / 25) train acc: 0.971000; val_acc: 0.959900\n",
      "(Iteration 480001 / 750000) loss: 0.171355\n",
      "(Iteration 490001 / 750000) loss: 0.051743\n",
      "(Iteration 500001 / 750000) loss: 0.151113\n",
      "(Epoch 17 / 25) train acc: 0.962000; val_acc: 0.954600\n",
      "(Iteration 510001 / 750000) loss: 0.012394\n",
      "(Iteration 520001 / 750000) loss: 0.265745\n",
      "(Iteration 530001 / 750000) loss: 0.313569\n",
      "(Epoch 18 / 25) train acc: 0.950000; val_acc: 0.959000\n",
      "(Iteration 540001 / 750000) loss: 0.011595\n",
      "(Iteration 550001 / 750000) loss: 0.020694\n",
      "(Iteration 560001 / 750000) loss: 1.473354\n",
      "(Epoch 19 / 25) train acc: 0.958000; val_acc: 0.960400\n",
      "(Iteration 570001 / 750000) loss: 0.070874\n",
      "(Iteration 580001 / 750000) loss: 0.035397\n",
      "(Iteration 590001 / 750000) loss: 0.023013\n",
      "(Epoch 20 / 25) train acc: 0.952000; val_acc: 0.955400\n",
      "(Iteration 600001 / 750000) loss: 0.016432\n",
      "(Iteration 610001 / 750000) loss: 0.025448\n",
      "(Iteration 620001 / 750000) loss: 0.199218\n",
      "(Epoch 21 / 25) train acc: 0.960000; val_acc: 0.957000\n",
      "(Iteration 630001 / 750000) loss: 0.017774\n",
      "(Iteration 640001 / 750000) loss: 0.105180\n",
      "(Iteration 650001 / 750000) loss: 0.528411\n",
      "(Epoch 22 / 25) train acc: 0.963000; val_acc: 0.960400\n",
      "(Iteration 660001 / 750000) loss: 0.012763\n",
      "(Iteration 670001 / 750000) loss: 0.014208\n",
      "(Iteration 680001 / 750000) loss: 0.015489\n",
      "(Epoch 23 / 25) train acc: 0.964000; val_acc: 0.962300\n",
      "(Iteration 690001 / 750000) loss: 0.013309\n",
      "(Iteration 700001 / 750000) loss: 0.113707\n",
      "(Iteration 710001 / 750000) loss: 0.024422\n",
      "(Epoch 24 / 25) train acc: 0.966000; val_acc: 0.962000\n",
      "(Iteration 720001 / 750000) loss: 0.893093\n",
      "(Iteration 730001 / 750000) loss: 0.021694\n",
      "(Iteration 740001 / 750000) loss: 0.788219\n",
      "(Epoch 25 / 25) train acc: 0.962000; val_acc: 0.961100\n"
     ]
    },
    {
     "data": {
      "text/plain": [
       "0.9623"
      ]
     },
     "execution_count": 43,
     "metadata": {},
     "output_type": "execute_result"
    }
   ],
   "source": [
    "# TODO: fill out the hyperparamets\n",
    "hyperparams = {'lr_decay': 0.95,\n",
    "               'num_epochs': 25,\n",
    "               'batch_size': 2,\n",
    "               'learning_rate': 0.0001,\n",
    "               'weight_scale': 0.1\n",
    "              }\n",
    "\n",
    "# TODO: fill out the number of units in your hidden layers\n",
    "hidden_dim = [100]  # this should be a list of units for each hiddent layer\n",
    "\n",
    "model = FullyConnectedNet(input_dim=784,\n",
    "                          hidden_dim=hidden_dim,\n",
    "                          weight_scale=hyperparams['weight_scale'])\n",
    "\n",
    "solver = Solver(model, data,\n",
    "                update_rule='sgd',\n",
    "                optim_config={\n",
    "                  'learning_rate': hyperparams['learning_rate'],\n",
    "                },\n",
    "                lr_decay=hyperparams['lr_decay'],\n",
    "                num_epochs=hyperparams['num_epochs'], \n",
    "                batch_size=hyperparams['batch_size'],\n",
    "                print_every=10000)\n",
    "solver.train()\n",
    "solver.best_val_acc"
   ]
  },
  {
   "cell_type": "code",
   "execution_count": 6,
   "metadata": {},
   "outputs": [],
   "source": [
    "def train_model(paras):\n",
    "    hyperparams = {'lr_decay': paras[1],\n",
    "               'num_epochs': paras[2],\n",
    "               'batch_size': paras[3],\n",
    "               'learning_rate': paras[4],\n",
    "               'weight_scale':paras[5]\n",
    "              }\n",
    "    hidden_dim = paras[0]\n",
    "    \n",
    "    model = FullyConnectedNet(input_dim=784,\n",
    "                              hidden_dim=hidden_dim,\n",
    "                              weight_scale=hyperparams['weight_scale'])\n",
    "    solver = Solver(model, data,\n",
    "                    update_rule='sgd',\n",
    "                    optim_config={\n",
    "                      'learning_rate': hyperparams['learning_rate'],\n",
    "                    },\n",
    "                    lr_decay=hyperparams['lr_decay'],\n",
    "                    num_epochs=hyperparams['num_epochs'], \n",
    "                    batch_size=hyperparams['batch_size'],\n",
    "                    verbose=False\n",
    "                    #print_every=100\n",
    "                   )\n",
    "    \n",
    "    solver.train()\n",
    "    return solver,model"
   ]
  },
  {
   "cell_type": "markdown",
   "metadata": {},
   "source": [
    "## 1.2 Two-layer Network"
   ]
  },
  {
   "cell_type": "code",
   "execution_count": 44,
   "metadata": {},
   "outputs": [
    {
     "data": {
      "application/vnd.jupyter.widget-view+json": {
       "model_id": "c20c33268ada43e992770f5b54a59e7d",
       "version_major": 2,
       "version_minor": 0
      },
      "text/plain": [
       "HBox(children=(IntProgress(value=0, max=9), HTML(value='')))"
      ]
     },
     "metadata": {},
     "output_type": "display_data"
    },
    {
     "name": "stdout",
     "output_type": "stream",
     "text": [
      "\n"
     ]
    }
   ],
   "source": [
    "import itertools\n",
    "best_val = 0.0\n",
    "best_model = None\n",
    "best_para = None\n",
    "best_solver = None\n",
    "\n",
    "lr_decay = [0.95]\n",
    "num_epochs = [20]\n",
    "batch_size = [2,4,8]\n",
    "learning_rate = [0.0001]\n",
    "weight_scale = [0.1]\n",
    "hidden_dims = [[h] for h in [100,150,200]]\n",
    "\n",
    "\n",
    "paras = [i for i in itertools.product\\\n",
    "(hidden_dims,lr_decay,num_epochs,batch_size,learning_rate,weight_scale)]\n",
    "total = str(len(paras))\n",
    "\n",
    "for para in tqdm_notebook(paras):\n",
    "    solver,model = train_model(para)\n",
    "    if solver.best_val_acc > best_val:\n",
    "        best_val = solver.best_val_acc\n",
    "        best_model = model\n",
    "        best_solver = solver\n",
    "        best_para = para"
   ]
  },
  {
   "cell_type": "code",
   "execution_count": 45,
   "metadata": {},
   "outputs": [
    {
     "data": {
      "image/png": "[encoded data removed]",
      "text/plain": [
       "<Figure size 432x288 with 1 Axes>"
      ]
     },
     "metadata": {
      "needs_background": "light"
     },
     "output_type": "display_data"
    },
    {
     "name": "stdout",
     "output_type": "stream",
     "text": [
      "hyperparameters of the best model: ([200], 0.95, 20, 4, 0.0001, 0.1)\n",
      "Validation accuracy of the best model: 0.965\n"
     ]
    }
   ],
   "source": [
    "from matplotlib import pyplot as plt\n",
    "plt.plot(best_solver.train_acc_history, '-o', label=\"train\")\n",
    "plt.plot(best_solver.val_acc_history, '-o', label=\"validation\")\n",
    "plt.xlabel(\"epocs\")\n",
    "plt.ylabel(\"accuracy\")\n",
    "plt.legend()\n",
    "plt.show()\n",
    "print(\"hyperparameters of the best model: \"+str(best_para));\n",
    "print(\"Validation accuracy of the best model:\",\\\n",
    "      best_solver.best_val_acc)"
   ]
  },
  {
   "cell_type": "code",
   "execution_count": 46,
   "metadata": {},
   "outputs": [],
   "source": [
    "y_test_pred = np.argmax(best_model.loss(X_test), axis=1)"
   ]
  },
  {
   "cell_type": "code",
   "execution_count": 47,
   "metadata": {},
   "outputs": [],
   "source": [
    "results_to_csv(y_test_pred,\"MNIST\")"
   ]
  },
  {
   "cell_type": "markdown",
   "metadata": {},
   "source": [
    "## 1.3  Multi-layer Network"
   ]
  },
  {
   "cell_type": "code",
   "execution_count": 22,
   "metadata": {},
   "outputs": [
    {
     "data": {
      "application/vnd.jupyter.widget-view+json": {
       "model_id": "f20d137ce51043a4a6de38207c4c9c51",
       "version_major": 2,
       "version_minor": 0
      },
      "text/plain": [
       "HBox(children=(IntProgress(value=0, max=8), HTML(value='')))"
      ]
     },
     "metadata": {},
     "output_type": "display_data"
    },
    {
     "name": "stdout",
     "output_type": "stream",
     "text": [
      "\n"
     ]
    }
   ],
   "source": [
    "best_val = 0.0\n",
    "best_model = None\n",
    "best_para = None\n",
    "best_solver = None\n",
    "\n",
    "lr_decay = [0.95]\n",
    "num_epochs = [20]\n",
    "batch_size = [4,8]\n",
    "learning_rate = [0.0001]\n",
    "weight_scale = [0.1]\n",
    "hidden_dims = [[200]*i for i in range(1,5)]\n",
    "\n",
    "prog = 1\n",
    "paras = [i for i in itertools.product\\\n",
    "(hidden_dims,lr_decay,num_epochs,batch_size,learning_rate,weight_scale)]\n",
    "total = str(len(paras))\n",
    "\n",
    "for para in tqdm_notebook(paras):\n",
    "    solver,model = train_model(para)\n",
    "    avg_val = np.mean(solver.val_acc_history)\n",
    "    if avg_val > best_val:\n",
    "        best_val = avg_val\n",
    "        best_model = model\n",
    "        best_solver = solver\n",
    "        best_para = para\n",
    "    # print(\"\\rfinished training model # \"+str(prog)+\"/\"+total,end=\"\")\n",
    "    prog += 1"
   ]
  },
  {
   "cell_type": "code",
   "execution_count": 24,
   "metadata": {},
   "outputs": [
    {
     "data": {
      "image/png": "[encoded data removed]",
      "text/plain": [
       "<Figure size 432x288 with 1 Axes>"
      ]
     },
     "metadata": {
      "needs_background": "light"
     },
     "output_type": "display_data"
    },
    {
     "name": "stdout",
     "output_type": "stream",
     "text": [
      "hyperparameters of the best model: ([200], 0.95, 20, 4, 0.0001, 0.1)\n",
      "Validation accuracy of the best model: 0.961\n"
     ]
    }
   ],
   "source": [
    "from matplotlib import pyplot as plt\n",
    "plt.plot(best_solver.train_acc_history, '-o', label=\"train\")\n",
    "plt.plot(best_solver.val_acc_history, '-o', label=\"validation\")\n",
    "plt.xlabel(\"epocs\")\n",
    "plt.ylabel(\"accuracy\")\n",
    "plt.legend()\n",
    "plt.show()\n",
    "print(\"hyperparameters of the best model: \"+str(best_para));\n",
    "print(\"Validation accuracy of the best model:\",\\\n",
    "      best_solver.best_val_acc)"
   ]
  },
  {
   "cell_type": "code",
   "execution_count": null,
   "metadata": {},
   "outputs": [],
   "source": [
    "y_test_pred = np.argmax(best_model.loss(X_test), axis=1)\n",
    "results_to_csv(y_test_pred,\"MNIST\")"
   ]
  }
 ],
 "metadata": {
  "anaconda-cloud": {},
  "kernelspec": {
   "display_name": "Python 3",
   "language": "python",
   "name": "python3"
  },
  "language_info": {
   "codemirror_mode": {
    "name": "ipython",
    "version": 3
   },
   "file_extension": ".py",
   "mimetype": "text/x-python",
   "name": "python",
   "nbconvert_exporter": "python",
   "pygments_lexer": "ipython3",
   "version": "3.7.1"
  }
 },
 "nbformat": 4,
 "nbformat_minor": 1
}
