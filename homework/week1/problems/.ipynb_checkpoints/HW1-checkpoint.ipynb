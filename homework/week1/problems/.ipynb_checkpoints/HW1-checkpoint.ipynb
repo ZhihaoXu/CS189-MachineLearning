{
 "cells": [
  {
   "cell_type": "markdown",
   "metadata": {},
   "source": [
    "# Data Partitioning"
   ]
  },
  {
   "cell_type": "code",
   "execution_count": 1,
   "metadata": {},
   "outputs": [],
   "source": [
    "import scipy.io\n",
    "import pandas as pd\n",
    "import numpy as np\n",
    "import random\n",
    "\n",
    "def processData(name,testing_size):\n",
    "    path = 'data/' + name + \".mat\" \n",
    "    data = scipy.io.loadmat(path)\n",
    "\n",
    "    data_X = data[\"training_data\"]\n",
    "    data_y = data[\"training_labels\"]\n",
    "    data_t = data[\"test_data\"]\n",
    "    \n",
    "    if testing_size <= 1:\n",
    "        testing_size = int(testing_size * data_X.shape[0])\n",
    "    \n",
    "    # random.seed(189)\n",
    "    index = random.sample(range(data_X.shape[0]),data_X.shape[0]-testing_size)\n",
    "\n",
    "    data_X_train = data_X[index]\n",
    "    data_X_validate = np.delete(data_X, index, axis=0)\n",
    "    data_y_train = data_y[index]\n",
    "    data_y_validate = np.delete(data_y, index, axis=0)\n",
    "\n",
    "    Data = dict()\n",
    "    Data[\"X_train\"] = data_X_train\n",
    "    Data[\"X_validate\"] = data_X_validate\n",
    "    Data[\"y_train\"] = data_y_train\n",
    "    Data[\"y_validate\"] = data_y_validate\n",
    "    Data[\"test\"] = data_t\n",
    "    return Data\n",
    "    \n"
   ]
  },
  {
   "cell_type": "code",
   "execution_count": 2,
   "metadata": {},
   "outputs": [],
   "source": [
    "mnistData = processData(\"mnist_data\",10000)"
   ]
  },
  {
   "cell_type": "code",
   "execution_count": 3,
   "metadata": {},
   "outputs": [
    {
     "name": "stdout",
     "output_type": "stream",
     "text": [
      "(4138, 32)\n"
     ]
    }
   ],
   "source": [
    "spamData = processData(\"spam_data\",0.2)\n",
    "print(spamData[\"X_train\"].shape)"
   ]
  },
  {
   "cell_type": "code",
   "execution_count": 4,
   "metadata": {},
   "outputs": [
    {
     "name": "stdout",
     "output_type": "stream",
     "text": [
      "(45000, 3072)\n"
     ]
    }
   ],
   "source": [
    "cifar10Data = processData(\"cifar10_data\",5000)\n",
    "print(cifar10Data[\"X_train\"].shape)"
   ]
  },
  {
   "cell_type": "code",
   "execution_count": 7,
   "metadata": {},
   "outputs": [],
   "source": [
    "from sklearn import svm\n",
    "from sklearn.metrics import accuracy_score\n",
    "\n",
    "def svmFit(data,training_sample,c=1,kernel=\"linear\",gam=\"scale\"):\n",
    "    data_X = data[\"X_train\"]\n",
    "    data_y = data[\"y_train\"]\n",
    "    \n",
    "    # random.seed(189)\n",
    "    index = random.sample(range(data_X.shape[0]),training_sample)\n",
    "\n",
    "    data_X_train = data_X[index]\n",
    "    data_X_validate = data[\"X_validate\"]\n",
    "    data_y_train = data_y[index]\n",
    "    data_y_validate = data[\"y_validate\"]\n",
    "\n",
    "    classifier=svm.SVC(C=c,kernel=kernel,max_iter=-1,gamma=gam)\n",
    "    classifier.fit(data_X_train,data_y_train.ravel())\n",
    "    \n",
    "    y_validate = classifier.predict(data_X_validate)\n",
    "    validate_accuracy = accuracy_score(y_validate,data_y_validate)\n",
    "    \n",
    "    y_train = classifier.predict(data_X_train)\n",
    "    train_accuracy = accuracy_score(y_train,data_y_train)\n",
    "    return train_accuracy,validate_accuracy"
   ]
  },
  {
   "cell_type": "markdown",
   "metadata": {},
   "source": [
    "# Support Vector Machines: Coding\n",
    "Fit the model using given number of training sample and predict on the validation set."
   ]
  },
  {
   "cell_type": "code",
   "execution_count": 25,
   "metadata": {},
   "outputs": [
    {
     "name": "stdout",
     "output_type": "stream",
     "text": [
      "1.0 0.7623\n",
      "1.0 0.8241\n",
      "1.0 0.8508\n",
      "1.0 0.8755\n",
      "1.0 0.8974\n",
      "1.0 0.901\n",
      "1.0 0.9077\n"
     ]
    }
   ],
   "source": [
    "# mnistData\n",
    "t_accuracy = []\n",
    "v_accuracy = []\n",
    "training_sample = [100, 200, 500, 1000, 2000, 5000, 10000]\n",
    "for i in training_sample:\n",
    "    ta,va = svmFit(mnistData,i,c=1)\n",
    "    print(ta,va)\n",
    "    t_accuracy.append(ta)\n",
    "    v_accuracy.append(va)\n"
   ]
  },
  {
   "cell_type": "code",
   "execution_count": 26,
   "metadata": {},
   "outputs": [
    {
     "data": {
      "text/plain": [
       "0.9566"
      ]
     },
     "execution_count": 26,
     "metadata": {},
     "output_type": "execute_result"
    }
   ],
   "source": [
    "# Optional: Fit the model by polynomial kernel\n",
    "svmFit(mnistData,10000,c=2,kernel=\"poly\")[1]"
   ]
  },
  {
   "cell_type": "code",
   "execution_count": 27,
   "metadata": {},
   "outputs": [
    {
     "data": {
      "image/png": "[encoded data removed]",
      "text/plain": [
       "<Figure size 432x288 with 1 Axes>"
      ]
     },
     "metadata": {
      "needs_background": "light"
     },
     "output_type": "display_data"
    }
   ],
   "source": [
    "import matplotlib.pyplot as plt\n",
    "%matplotlib inline\n",
    "plt.plot(training_sample,t_accuracy,c=\"red\",label=\"training\")\n",
    "plt.plot(training_sample,v_accuracy,c=\"blue\",label=\"validation\")\n",
    "plt.legend(loc=\"lower right\")\n",
    "plt.xlabel(\"training sample\")\n",
    "plt.ylabel(\"accuracy\")\n",
    "plt.title(\"mnistData Linear SVM Accuracy\")\n",
    "\n",
    "plt.show()"
   ]
  },
  {
   "cell_type": "code",
   "execution_count": 28,
   "metadata": {},
   "outputs": [
    {
     "name": "stdout",
     "output_type": "stream",
     "text": [
      "0.83 0.7504835589941973\n",
      "0.875 0.7823984526112185\n",
      "0.864 0.8027079303675049\n",
      "0.863 0.8181818181818182\n",
      "0.846 0.8355899419729207\n",
      "0.8414693088448526 0.8365570599613152\n"
     ]
    }
   ],
   "source": [
    "# spamData\n",
    "t_accuracy = []\n",
    "v_accuracy = []\n",
    "\n",
    "training_sample = [100, 200, 500, 1000, 2000,4138]\n",
    "for i in training_sample:\n",
    "    ta,va = svmFit(spamData,i,c=20,kernel=\"rbf\",gam=\"scale\")\n",
    "    print(ta,va)\n",
    "    t_accuracy.append(ta)\n",
    "    v_accuracy.append(va)"
   ]
  },
  {
   "cell_type": "code",
   "execution_count": 29,
   "metadata": {},
   "outputs": [
    {
     "data": {
      "text/plain": [
       "0.8365570599613152"
      ]
     },
     "execution_count": 29,
     "metadata": {},
     "output_type": "execute_result"
    }
   ],
   "source": [
    "# Optional: Fit the model by kernel\n",
    "svmFit(spamData,4138 ,c=20,kernel=\"rbf\",gam=\"scale\")[1]"
   ]
  },
  {
   "cell_type": "code",
   "execution_count": 30,
   "metadata": {},
   "outputs": [
    {
     "data": {
      "image/png": "[encoded data removed]",
      "text/plain": [
       "<Figure size 432x288 with 1 Axes>"
      ]
     },
     "metadata": {
      "needs_background": "light"
     },
     "output_type": "display_data"
    }
   ],
   "source": [
    "plt.plot(training_sample,t_accuracy,c=\"red\",label=\"training\")\n",
    "plt.plot(training_sample,v_accuracy,c=\"blue\",label=\"validation\")\n",
    "plt.legend(loc=\"lower right\")\n",
    "plt.xlabel(\"training sample\")\n",
    "plt.ylabel(\"accuracy\")\n",
    "plt.title(\"spamData Linear SVM Accuracy\")\n",
    "\n",
    "plt.show()"
   ]
  },
  {
   "cell_type": "code",
   "execution_count": 32,
   "metadata": {},
   "outputs": [
    {
     "name": "stdout",
     "output_type": "stream",
     "text": [
      "1.0 0.2458\n",
      "1.0 0.2416\n",
      "1.0 0.2798\n",
      "1.0 0.2802\n",
      "1.0 0.295\n",
      "1.0 0.2976\n"
     ]
    }
   ],
   "source": [
    "# cifar10Data\n",
    "t_accuracy = []\n",
    "v_accuracy = []\n",
    "\n",
    "training_sample = [100, 200, 500, 1000, 2000, 5000]\n",
    "for i in training_sample:\n",
    "    ta,va = svmFit(cifar10Data,i,c=1,kernel=\"linear\")\n",
    "    print(ta,va)\n",
    "    t_accuracy.append(ta)\n",
    "    v_accuracy.append(va)\n"
   ]
  },
  {
   "cell_type": "code",
   "execution_count": 36,
   "metadata": {},
   "outputs": [
    {
     "data": {
      "text/plain": [
       "0.386"
      ]
     },
     "execution_count": 36,
     "metadata": {},
     "output_type": "execute_result"
    }
   ],
   "source": [
    "# Optional: Fit the model by kernel\n",
    "svmFit(cifar10Data,5000,c=0.1,kernel=\"poly\")[1]"
   ]
  },
  {
   "cell_type": "code",
   "execution_count": 37,
   "metadata": {
    "scrolled": false
   },
   "outputs": [
    {
     "data": {
      "image/png": "[encoded data removed]",
      "text/plain": [
       "<Figure size 432x288 with 1 Axes>"
      ]
     },
     "metadata": {
      "needs_background": "light"
     },
     "output_type": "display_data"
    }
   ],
   "source": [
    "plt.plot(training_sample,t_accuracy,c=\"red\",label=\"training\")\n",
    "plt.plot(training_sample,v_accuracy,c=\"blue\",label=\"validation\")\n",
    "plt.legend(loc=\"lower right\")\n",
    "plt.xlabel(\"training sample\")\n",
    "plt.ylabel(\"accuracy\")\n",
    "plt.title(\"cifar10Data Linear SVM Accuracy\")\n",
    "\n",
    "plt.show()"
   ]
  },
  {
   "cell_type": "markdown",
   "metadata": {},
   "source": [
    "# Hyperparameter Tuning"
   ]
  },
  {
   "cell_type": "code",
   "execution_count": 38,
   "metadata": {},
   "outputs": [
    {
     "name": "stdout",
     "output_type": "stream",
     "text": [
      "0.1 0.9124\n",
      "0.2 0.9087\n",
      "0.3 0.9075\n",
      "0.4 0.9104\n",
      "0.5 0.9119\n",
      "0.6 0.9157\n",
      "0.7 0.9149\n",
      "0.8 0.9108\n",
      "0.9 0.9167\n",
      "1 0.9103\n",
      "2 0.9113\n",
      "3 0.9139\n",
      "4 0.9092\n",
      "5 0.9124\n"
     ]
    }
   ],
   "source": [
    "v_accuracy = []\n",
    "\n",
    "listC = [x/10 for x in range(1,10)] + list(range(1,6))\n",
    "for i in listC:\n",
    "    va = svmFit(mnistData,10000,c=i)[1]\n",
    "    print(i,va)\n",
    "    v_accuracy.append(va)"
   ]
  },
  {
   "cell_type": "markdown",
   "metadata": {},
   "source": [
    "# K-Fold Cross-Validation"
   ]
  },
  {
   "cell_type": "code",
   "execution_count": 39,
   "metadata": {},
   "outputs": [],
   "source": [
    "def KFoldCV(name,c,k=5,kernel=\"linear\"):\n",
    "    path = 'data/' + name + \".mat\" \n",
    "    data = scipy.io.loadmat(path)\n",
    "    \n",
    "    data_X = data[\"training_data\"]\n",
    "    data_y = data[\"training_labels\"]\n",
    "    \n",
    "    random.seed(189)\n",
    "    index = random.sample(range(data_X.shape[0]),data_X.shape[0])\n",
    "    data_X = data_X[index]   \n",
    "    data_y = data_y[index]\n",
    "    \n",
    "    accu = []\n",
    "    for i in range(k):\n",
    "        index = list(range( int(data_X.shape[0]*i/k) , int(data_X.shape[0]*(i+1)/k)))\n",
    "        data_X_validate = data_X[index]\n",
    "        data_X_train = np.delete(data_X, index, axis=0)\n",
    "        data_y_validate = data_y[index]\n",
    "        data_y_train = np.delete(data_y, index, axis=0)\n",
    "               \n",
    "        classifier=svm.SVC(C=c,kernel=kernel,max_iter=-1,gamma=\"scale\")\n",
    "        classifier.fit(data_X_train,data_y_train.ravel())\n",
    "\n",
    "        y_validate = classifier.predict(data_X_validate)\n",
    "        validate_accuracy = accuracy_score(y_validate,data_y_validate)\n",
    "        accu.append(validate_accuracy)\n",
    "    \n",
    "    return sum(accu)/len(accu)"
   ]
  },
  {
   "cell_type": "code",
   "execution_count": 40,
   "metadata": {},
   "outputs": [
    {
     "name": "stdout",
     "output_type": "stream",
     "text": [
      "0.1 0.7938898700230801\n",
      "0.2 0.7967906633401546\n",
      "0.3 0.799304235696465\n",
      "0.4 0.799304235696465\n",
      "0.5 0.8002709799194536\n",
      "0.6 0.8006574533494053\n",
      "0.7 0.8004642166344296\n",
      "0.8 0.8008510638297872\n",
      "0.9 0.8014309608574178\n",
      "1 0.8012377241424421\n",
      "2 0.8016243844550968\n",
      "3 0.8020110447677515\n",
      "4 0.8020112316504546\n",
      "5 0.8022046552481334\n"
     ]
    }
   ],
   "source": [
    "kfold_accuracy = []\n",
    "\n",
    "listC = [x/10 for x in range(1,10)] + list(range(1,6))\n",
    "for i in listC:\n",
    "    ka = KFoldCV('spam_data',c=i,kernel=\"linear\")\n",
    "    print(i,ka)\n",
    "    kfold_accuracy.append(ka)"
   ]
  },
  {
   "cell_type": "markdown",
   "metadata": {},
   "source": [
    "# Prediction on the test data"
   ]
  },
  {
   "cell_type": "code",
   "execution_count": 14,
   "metadata": {},
   "outputs": [],
   "source": [
    "# mnistData\n",
    "name = \"mnist_data\"\n",
    "path = 'data/' + name + \".mat\" \n",
    "data = scipy.io.loadmat(path)\n",
    "\n",
    "data_X_train = data[\"training_data\"]\n",
    "data_y_train = data[\"training_labels\"]\n",
    "data_X_test = data[\"test_data\"]\n",
    "\n",
    "# random.seed(189)\n",
    "index = random.sample(range(data_X_train.shape[0]),25000)\n",
    "\n",
    "data_X_train = data_X_train[index]\n",
    "data_y_train = data_y_train[index]\n",
    "\n",
    "classifier=svm.SVC(C=1,kernel=\"linear\",max_iter=-1,gamma='scale')\n",
    "classifier.fit(data_X_train,data_y_train.ravel())\n",
    "\n",
    "y_test = classifier.predict(data_X_test)"
   ]
  },
  {
   "cell_type": "code",
   "execution_count": 15,
   "metadata": {},
   "outputs": [
    {
     "name": "stdout",
     "output_type": "stream",
     "text": [
      "[7 2 1 ... 4 5 6]\n"
     ]
    }
   ],
   "source": [
    "print(y_test)\n",
    "save = pd.DataFrame(y_test)\n",
    "save.index = range(1,len(save) + 1)\n",
    "save.to_csv(\"mnist_predict.csv\")"
   ]
  },
  {
   "cell_type": "code",
   "execution_count": 23,
   "metadata": {},
   "outputs": [],
   "source": [
    "# spamData\n",
    "name = \"spam_data\"\n",
    "path = 'data/' + name + \".mat\" \n",
    "data = scipy.io.loadmat(path)\n",
    "\n",
    "data_X_train = data[\"training_data\"]\n",
    "data_y_train = data[\"training_labels\"]\n",
    "data_X_test = data[\"test_data\"]\n",
    "\n",
    "classifier=svm.SVC(C=30,kernel=\"rbf\",max_iter=-1,gamma='scale')\n",
    "classifier.fit(data_X_train,data_y_train.ravel())\n",
    "\n",
    "y_test = classifier.predict(data_X_test)"
   ]
  },
  {
   "cell_type": "code",
   "execution_count": 24,
   "metadata": {},
   "outputs": [
    {
     "name": "stdout",
     "output_type": "stream",
     "text": [
      "[1 1 0 ... 0 0 0]\n"
     ]
    }
   ],
   "source": [
    "print(y_test)\n",
    "save = pd.DataFrame(y_test)\n",
    "save.index = range(1,len(save) + 1)\n",
    "save.to_csv(\"spam_predict.csv\")"
   ]
  },
  {
   "cell_type": "code",
   "execution_count": 18,
   "metadata": {},
   "outputs": [
    {
     "name": "stdout",
     "output_type": "stream",
     "text": [
      "Data done\n",
      "fitted\n",
      "start predicting\n"
     ]
    }
   ],
   "source": [
    "# cifar10Data\n",
    "name = \"cifar10_data\"\n",
    "path = 'data/' + name + \".mat\" \n",
    "data = scipy.io.loadmat(path)\n",
    "\n",
    "data_X_train = data[\"training_data\"]\n",
    "data_y_train = data[\"training_labels\"]\n",
    "data_X_test = data[\"test_data\"]\n",
    "\n",
    "random.seed(189)\n",
    "index = random.sample(range(data_X_train.shape[0]),15000)\n",
    "\n",
    "data_X_train = data_X_train[index]\n",
    "data_y_train = data_y_train[index]\n",
    " \n",
    "print(\"Data done\")\n",
    "classifier=svm.SVC(C=0.1,kernel=\"poly\",max_iter=-1,gamma='scale')\n",
    "print(\"fitted\")\n",
    "classifier.fit(data_X_train,data_y_train.ravel())\n",
    "print(\"start predicting\")\n",
    "y_test = classifier.predict(data_X_test)"
   ]
  },
  {
   "cell_type": "code",
   "execution_count": 19,
   "metadata": {},
   "outputs": [
    {
     "name": "stdout",
     "output_type": "stream",
     "text": [
      "[3 9 0 ... 5 5 2]\n"
     ]
    }
   ],
   "source": [
    "print(y_test)\n",
    "save = pd.DataFrame(y_test)\n",
    "save.index = range(1,len(save) + 1)\n",
    "save.to_csv(\"cifar10_predict.csv\")"
   ]
  },
  {
   "cell_type": "code",
   "execution_count": null,
   "metadata": {},
   "outputs": [],
   "source": []
  }
 ],
 "metadata": {
  "kernelspec": {
   "display_name": "Python 3",
   "language": "python",
   "name": "python3"
  },
  "language_info": {
   "codemirror_mode": {
    "name": "ipython",
    "version": 3
   },
   "file_extension": ".py",
   "mimetype": "text/x-python",
   "name": "python",
   "nbconvert_exporter": "python",
   "pygments_lexer": "ipython3",
   "version": "3.7.1"
  }
 },
 "nbformat": 4,
 "nbformat_minor": 2
}
